{
 "cells": [
  {
   "cell_type": "code",
   "execution_count": 2,
   "metadata": {
    "collapsed": false
   },
   "outputs": [],
   "source": [
    "from sklearn import tree \n",
    "from ipywidgets import widgets\n",
    "from IPython.display import display\n",
    "from sklearn.datasets import load_iris\n"
   ]
  },
  {
   "cell_type": "code",
   "execution_count": 3,
   "metadata": {
    "collapsed": false
   },
   "outputs": [
    {
     "name": "stdout",
     "output_type": "stream",
     "text": [
      "['n' 'y']\n"
     ]
    }
   ],
   "source": [
    "# age sallary\n",
    "features = [ [18, 2000],[18, 3000], [18, 5000], [20, 2500], [20, 4000], [28, 4000], [35, 6000], [40, 9000]]\n",
    "\n",
    "# if over average\n",
    "labels = [\"n\", \"y\", \"y\", \"n\", \"y\", \"y\", \"y\",\"y\" ]\n",
    "# labels = [0, 1, 1, 0, 1, 1, 1,1 ]\n",
    "\n",
    "clf = tree.DecisionTreeClassifier()\n",
    "clf.fit(features, labels)\n",
    "\n",
    "print(clf.predict([[20, 2000], [20, 3000]]))"
   ]
  },
  {
   "cell_type": "code",
   "execution_count": 16,
   "metadata": {
    "collapsed": false
   },
   "outputs": [
    {
     "name": "stdout",
     "output_type": "stream",
     "text": [
      "12,2000\n",
      "['n']\n",
      "12,2000\n",
      "['n']\n",
      "12,2000\n",
      "['n']\n",
      "30, 2000\n",
      "['n']\n",
      "30, 5000\n",
      "['y']\n",
      "30, 4000\n",
      "['y']\n"
     ]
    }
   ],
   "source": [
    "text = widgets.Text()\n",
    "\n",
    "\n",
    "\n",
    "def handle_submit(sender):\n",
    "    \n",
    "    print(text.value)\n",
    "    print(clf.predict([list(map(int, text.value.split(\",\")))]))\n",
    "    \n",
    "text.on_submit(handle_submit)    \n",
    "display(text)"
   ]
  },
  {
   "cell_type": "code",
   "execution_count": 12,
   "metadata": {
    "collapsed": false
   },
   "outputs": [
    {
     "name": "stdout",
     "output_type": "stream",
     "text": [
      "\n",
      "['sepal length (cm)', 'sepal width (cm)', 'petal length (cm)', 'petal width (cm)']\n",
      "['setosa' 'versicolor' 'virginica']\n",
      "[0 0 0 0 0 0 0 0 0 0 0 0 0 0 0 0 0 0 0 0 0 0 0 0 0 0 0 0 0 0 0 0 0 0 0 0 0\n",
      " 0 0 0 0 0 0 0 0 0 0 0 0 0 1 1 1 1 1 1 1 1 1 1 1 1 1 1 1 1 1 1 1 1 1 1 1 1\n",
      " 1 1 1 1 1 1 1 1 1 1 1 1 1 1 1 1 1 1 1 1 1 1 1 1 1 1 2 2 2 2 2 2 2 2 2 2 2\n",
      " 2 2 2 2 2 2 2 2 2 2 2 2 2 2 2 2 2 2 2 2 2 2 2 2 2 2 2 2 2 2 2 2 2 2 2 2 2\n",
      " 2 2]\n"
     ]
    }
   ],
   "source": [
    "\n",
    "print()\n",
    "print(iris.feature_names)\n",
    "print(iris.target_names)\n",
    "print(iris.target)\n"
   ]
  },
  {
   "cell_type": "code",
   "execution_count": 19,
   "metadata": {
    "collapsed": false
   },
   "outputs": [
    {
     "name": "stdout",
     "output_type": "stream",
     "text": [
      "No: 0 0\n",
      "No: 1 0\n",
      "No: 2 0\n",
      "No: 3 0\n",
      "No: 4 0\n",
      "No: 5 0\n",
      "No: 6 0\n",
      "No: 7 0\n",
      "No: 8 0\n",
      "No: 9 0\n",
      "No: 10 0\n",
      "No: 11 0\n",
      "No: 12 0\n",
      "No: 13 0\n",
      "No: 14 0\n",
      "No: 15 0\n",
      "No: 16 0\n",
      "No: 17 0\n",
      "No: 18 0\n",
      "No: 19 0\n",
      "No: 20 0\n",
      "No: 21 0\n",
      "No: 22 0\n",
      "No: 23 0\n",
      "No: 24 0\n",
      "No: 25 0\n",
      "No: 26 0\n",
      "No: 27 0\n",
      "No: 28 0\n",
      "No: 29 0\n",
      "No: 30 0\n",
      "No: 31 0\n",
      "No: 32 0\n",
      "No: 33 0\n",
      "No: 34 0\n",
      "No: 35 0\n",
      "No: 36 0\n",
      "No: 37 0\n",
      "No: 38 0\n",
      "No: 39 0\n",
      "No: 40 0\n",
      "No: 41 0\n",
      "No: 42 0\n",
      "No: 43 0\n",
      "No: 44 0\n",
      "No: 45 0\n",
      "No: 46 0\n",
      "No: 47 0\n",
      "No: 48 0\n",
      "No: 49 0\n",
      "No: 50 1\n",
      "No: 51 1\n",
      "No: 52 1\n",
      "No: 53 1\n",
      "No: 54 1\n",
      "No: 55 1\n",
      "No: 56 1\n",
      "No: 57 1\n",
      "No: 58 1\n",
      "No: 59 1\n",
      "No: 60 1\n",
      "No: 61 1\n",
      "No: 62 1\n",
      "No: 63 1\n",
      "No: 64 1\n",
      "No: 65 1\n",
      "No: 66 1\n",
      "No: 67 1\n",
      "No: 68 1\n",
      "No: 69 1\n",
      "No: 70 1\n",
      "No: 71 1\n",
      "No: 72 1\n",
      "No: 73 1\n",
      "No: 74 1\n",
      "No: 75 1\n",
      "No: 76 1\n",
      "No: 77 1\n",
      "No: 78 1\n",
      "No: 79 1\n",
      "No: 80 1\n",
      "No: 81 1\n",
      "No: 82 1\n",
      "No: 83 1\n",
      "No: 84 1\n",
      "No: 85 1\n",
      "No: 86 1\n",
      "No: 87 1\n",
      "No: 88 1\n",
      "No: 89 1\n",
      "No: 90 1\n",
      "No: 91 1\n",
      "No: 92 1\n",
      "No: 93 1\n",
      "No: 94 1\n",
      "No: 95 1\n",
      "No: 96 1\n",
      "No: 97 1\n",
      "No: 98 1\n",
      "No: 99 1\n",
      "No: 100 2\n",
      "No: 101 2\n",
      "No: 102 2\n",
      "No: 103 2\n",
      "No: 104 2\n",
      "No: 105 2\n",
      "No: 106 2\n",
      "No: 107 2\n",
      "No: 108 2\n",
      "No: 109 2\n",
      "No: 110 2\n",
      "No: 111 2\n",
      "No: 112 2\n",
      "No: 113 2\n",
      "No: 114 2\n",
      "No: 115 2\n",
      "No: 116 2\n",
      "No: 117 2\n",
      "No: 118 2\n",
      "No: 119 2\n",
      "No: 120 2\n",
      "No: 121 2\n",
      "No: 122 2\n",
      "No: 123 2\n",
      "No: 124 2\n",
      "No: 125 2\n",
      "No: 126 2\n",
      "No: 127 2\n",
      "No: 128 2\n",
      "No: 129 2\n",
      "No: 130 2\n",
      "No: 131 2\n",
      "No: 132 2\n",
      "No: 133 2\n",
      "No: 134 2\n",
      "No: 135 2\n",
      "No: 136 2\n",
      "No: 137 2\n",
      "No: 138 2\n",
      "No: 139 2\n",
      "No: 140 2\n",
      "No: 141 2\n",
      "No: 142 2\n",
      "No: 143 2\n",
      "No: 144 2\n",
      "No: 145 2\n",
      "No: 146 2\n",
      "No: 147 2\n",
      "No: 148 2\n",
      "No: 149 2\n"
     ]
    }
   ],
   "source": [
    "for i in range(len(iris.data)):\n",
    "    print(\"No: %d %s\" % (i, iris.target[i]))"
   ]
  }
 ],
 "metadata": {
  "kernelspec": {
   "display_name": "Python 3",
   "language": "python",
   "name": "python3"
  },
  "language_info": {
   "codemirror_mode": {
    "name": "ipython",
    "version": 3
   },
   "file_extension": ".py",
   "mimetype": "text/x-python",
   "name": "python",
   "nbconvert_exporter": "python",
   "pygments_lexer": "ipython3",
   "version": "3.4.6"
  }
 },
 "nbformat": 4,
 "nbformat_minor": 2
}
