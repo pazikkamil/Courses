{
 "cells": [
  {
   "cell_type": "code",
   "execution_count": 2,
   "metadata": {
    "collapsed": false
   },
   "outputs": [
    {
     "data": {
      "image/jpeg": "[encoded data removed]",
      "text/plain": [
       "<IPython.lib.display.YouTubeVideo at 0x110549a58>"
      ]
     },
     "metadata": {}
    }
   ],
   "source": [
    "from IPython.display import YouTubeVideo\n",
    "# a talk about IPython at Sage Days at U. Washington, Seattle.\n",
    "# Video credit: William Stein.\n",
    "YouTubeVideo('tNa99PG8hR8')"
   ]
  },
  {
   "cell_type": "code",
   "execution_count": 18,
   "metadata": {
    "collapsed": false
   },
   "outputs": [
    {
     "name": "stdout",
     "output_type": "stream",
     "text": [
      "['sepal length (cm)', 'sepal width (cm)', 'petal length (cm)', 'petal width (cm)']\n",
      "['setosa' 'versicolor' 'virginica']\n",
      "[ 5.1  3.5  1.4  0.2]\n",
      "0\n",
      "[0 0 0 0 0 0 0 0 0 0 0 0 0 0 0 0 0 0 0 0 0 0 0 0 0 0 0 0 0 0 0 0 0 0 0 0 0\n",
      " 0 0 0 0 0 0 0 0 0 0 0 0 0 1 1 1 1 1 1 1 1 1 1 1 1 1 1 1 1 1 1 1 1 1 1 1 1\n",
      " 1 1 1 1 1 1 1 1 1 1 1 1 1 1 1 1 1 1 1 1 1 1 1 1 1 1 2 2 2 2 2 2 2 2 2 2 2\n",
      " 2 2 2 2 2 2 2 2 2 2 2 2 2 2 2 2 2 2 2 2 2 2 2 2 2 2 2 2 2 2 2 2 2 2 2 2 2\n",
      " 2 2]\n",
      "### Look at all data ###\n",
      "['sepal length (cm)', 'sepal width (cm)', 'petal length (cm)', 'petal width (cm)']\n",
      "[ 5.1  3.5  1.4  0.2] type: setosa row no:0\n",
      "[ 4.9  3.   1.4  0.2] type: setosa row no:1\n",
      "[ 4.7  3.2  1.3  0.2] type: setosa row no:2\n",
      "[ 4.6  3.1  1.5  0.2] type: setosa row no:3\n",
      "[ 5.   3.6  1.4  0.2] type: setosa row no:4\n",
      "[ 5.4  3.9  1.7  0.4] type: setosa row no:5\n",
      "[ 4.6  3.4  1.4  0.3] type: setosa row no:6\n",
      "[ 5.   3.4  1.5  0.2] type: setosa row no:7\n",
      "[ 4.4  2.9  1.4  0.2] type: setosa row no:8\n",
      "[ 4.9  3.1  1.5  0.1] type: setosa row no:9\n",
      "[ 5.4  3.7  1.5  0.2] type: setosa row no:10\n",
      "[ 4.8  3.4  1.6  0.2] type: setosa row no:11\n",
      "[ 4.8  3.   1.4  0.1] type: setosa row no:12\n",
      "[ 4.3  3.   1.1  0.1] type: setosa row no:13\n",
      "[ 5.8  4.   1.2  0.2] type: setosa row no:14\n",
      "[ 5.7  4.4  1.5  0.4] type: setosa row no:15\n",
      "[ 5.4  3.9  1.3  0.4] type: setosa row no:16\n",
      "[ 5.1  3.5  1.4  0.3] type: setosa row no:17\n",
      "[ 5.7  3.8  1.7  0.3] type: setosa row no:18\n",
      "[ 5.1  3.8  1.5  0.3] type: setosa row no:19\n",
      "[ 5.4  3.4  1.7  0.2] type: setosa row no:20\n",
      "[ 5.1  3.7  1.5  0.4] type: setosa row no:21\n",
      "[ 4.6  3.6  1.   0.2] type: setosa row no:22\n",
      "[ 5.1  3.3  1.7  0.5] type: setosa row no:23\n",
      "[ 4.8  3.4  1.9  0.2] type: setosa row no:24\n",
      "[ 5.   3.   1.6  0.2] type: setosa row no:25\n",
      "[ 5.   3.4  1.6  0.4] type: setosa row no:26\n",
      "[ 5.2  3.5  1.5  0.2] type: setosa row no:27\n",
      "[ 5.2  3.4  1.4  0.2] type: setosa row no:28\n",
      "[ 4.7  3.2  1.6  0.2] type: setosa row no:29\n",
      "[ 4.8  3.1  1.6  0.2] type: setosa row no:30\n",
      "[ 5.4  3.4  1.5  0.4] type: setosa row no:31\n",
      "[ 5.2  4.1  1.5  0.1] type: setosa row no:32\n",
      "[ 5.5  4.2  1.4  0.2] type: setosa row no:33\n",
      "[ 4.9  3.1  1.5  0.1] type: setosa row no:34\n",
      "[ 5.   3.2  1.2  0.2] type: setosa row no:35\n",
      "[ 5.5  3.5  1.3  0.2] type: setosa row no:36\n",
      "[ 4.9  3.1  1.5  0.1] type: setosa row no:37\n",
      "[ 4.4  3.   1.3  0.2] type: setosa row no:38\n",
      "[ 5.1  3.4  1.5  0.2] type: setosa row no:39\n",
      "[ 5.   3.5  1.3  0.3] type: setosa row no:40\n",
      "[ 4.5  2.3  1.3  0.3] type: setosa row no:41\n",
      "[ 4.4  3.2  1.3  0.2] type: setosa row no:42\n",
      "[ 5.   3.5  1.6  0.6] type: setosa row no:43\n",
      "[ 5.1  3.8  1.9  0.4] type: setosa row no:44\n",
      "[ 4.8  3.   1.4  0.3] type: setosa row no:45\n",
      "[ 5.1  3.8  1.6  0.2] type: setosa row no:46\n",
      "[ 4.6  3.2  1.4  0.2] type: setosa row no:47\n",
      "[ 5.3  3.7  1.5  0.2] type: setosa row no:48\n",
      "[ 5.   3.3  1.4  0.2] type: setosa row no:49\n",
      "[ 7.   3.2  4.7  1.4] type: versicolor row no:50\n",
      "[ 6.4  3.2  4.5  1.5] type: versicolor row no:51\n",
      "[ 6.9  3.1  4.9  1.5] type: versicolor row no:52\n",
      "[ 5.5  2.3  4.   1.3] type: versicolor row no:53\n",
      "[ 6.5  2.8  4.6  1.5] type: versicolor row no:54\n",
      "[ 5.7  2.8  4.5  1.3] type: versicolor row no:55\n",
      "[ 6.3  3.3  4.7  1.6] type: versicolor row no:56\n",
      "[ 4.9  2.4  3.3  1. ] type: versicolor row no:57\n",
      "[ 6.6  2.9  4.6  1.3] type: versicolor row no:58\n",
      "[ 5.2  2.7  3.9  1.4] type: versicolor row no:59\n",
      "[ 5.   2.   3.5  1. ] type: versicolor row no:60\n",
      "[ 5.9  3.   4.2  1.5] type: versicolor row no:61\n",
      "[ 6.   2.2  4.   1. ] type: versicolor row no:62\n",
      "[ 6.1  2.9  4.7  1.4] type: versicolor row no:63\n",
      "[ 5.6  2.9  3.6  1.3] type: versicolor row no:64\n",
      "[ 6.7  3.1  4.4  1.4] type: versicolor row no:65\n",
      "[ 5.6  3.   4.5  1.5] type: versicolor row no:66\n",
      "[ 5.8  2.7  4.1  1. ] type: versicolor row no:67\n",
      "[ 6.2  2.2  4.5  1.5] type: versicolor row no:68\n",
      "[ 5.6  2.5  3.9  1.1] type: versicolor row no:69\n",
      "[ 5.9  3.2  4.8  1.8] type: versicolor row no:70\n",
      "[ 6.1  2.8  4.   1.3] type: versicolor row no:71\n",
      "[ 6.3  2.5  4.9  1.5] type: versicolor row no:72\n",
      "[ 6.1  2.8  4.7  1.2] type: versicolor row no:73\n",
      "[ 6.4  2.9  4.3  1.3] type: versicolor row no:74\n",
      "[ 6.6  3.   4.4  1.4] type: versicolor row no:75\n",
      "[ 6.8  2.8  4.8  1.4] type: versicolor row no:76\n",
      "[ 6.7  3.   5.   1.7] type: versicolor row no:77\n",
      "[ 6.   2.9  4.5  1.5] type: versicolor row no:78\n",
      "[ 5.7  2.6  3.5  1. ] type: versicolor row no:79\n",
      "[ 5.5  2.4  3.8  1.1] type: versicolor row no:80\n",
      "[ 5.5  2.4  3.7  1. ] type: versicolor row no:81\n",
      "[ 5.8  2.7  3.9  1.2] type: versicolor row no:82\n",
      "[ 6.   2.7  5.1  1.6] type: versicolor row no:83\n",
      "[ 5.4  3.   4.5  1.5] type: versicolor row no:84\n",
      "[ 6.   3.4  4.5  1.6] type: versicolor row no:85\n",
      "[ 6.7  3.1  4.7  1.5] type: versicolor row no:86\n",
      "[ 6.3  2.3  4.4  1.3] type: versicolor row no:87\n",
      "[ 5.6  3.   4.1  1.3] type: versicolor row no:88\n",
      "[ 5.5  2.5  4.   1.3] type: versicolor row no:89\n",
      "[ 5.5  2.6  4.4  1.2] type: versicolor row no:90\n",
      "[ 6.1  3.   4.6  1.4] type: versicolor row no:91\n",
      "[ 5.8  2.6  4.   1.2] type: versicolor row no:92\n",
      "[ 5.   2.3  3.3  1. ] type: versicolor row no:93\n",
      "[ 5.6  2.7  4.2  1.3] type: versicolor row no:94\n",
      "[ 5.7  3.   4.2  1.2] type: versicolor row no:95\n",
      "[ 5.7  2.9  4.2  1.3] type: versicolor row no:96\n",
      "[ 6.2  2.9  4.3  1.3] type: versicolor row no:97\n",
      "[ 5.1  2.5  3.   1.1] type: versicolor row no:98\n",
      "[ 5.7  2.8  4.1  1.3] type: versicolor row no:99\n",
      "[ 6.3  3.3  6.   2.5] type: virginica row no:100\n",
      "[ 5.8  2.7  5.1  1.9] type: virginica row no:101\n",
      "[ 7.1  3.   5.9  2.1] type: virginica row no:102\n",
      "[ 6.3  2.9  5.6  1.8] type: virginica row no:103\n",
      "[ 6.5  3.   5.8  2.2] type: virginica row no:104\n",
      "[ 7.6  3.   6.6  2.1] type: virginica row no:105\n",
      "[ 4.9  2.5  4.5  1.7] type: virginica row no:106\n",
      "[ 7.3  2.9  6.3  1.8] type: virginica row no:107\n",
      "[ 6.7  2.5  5.8  1.8] type: virginica row no:108\n",
      "[ 7.2  3.6  6.1  2.5] type: virginica row no:109\n",
      "[ 6.5  3.2  5.1  2. ] type: virginica row no:110\n",
      "[ 6.4  2.7  5.3  1.9] type: virginica row no:111\n",
      "[ 6.8  3.   5.5  2.1] type: virginica row no:112\n",
      "[ 5.7  2.5  5.   2. ] type: virginica row no:113\n",
      "[ 5.8  2.8  5.1  2.4] type: virginica row no:114\n",
      "[ 6.4  3.2  5.3  2.3] type: virginica row no:115\n",
      "[ 6.5  3.   5.5  1.8] type: virginica row no:116\n",
      "[ 7.7  3.8  6.7  2.2] type: virginica row no:117\n",
      "[ 7.7  2.6  6.9  2.3] type: virginica row no:118\n",
      "[ 6.   2.2  5.   1.5] type: virginica row no:119\n",
      "[ 6.9  3.2  5.7  2.3] type: virginica row no:120\n",
      "[ 5.6  2.8  4.9  2. ] type: virginica row no:121\n",
      "[ 7.7  2.8  6.7  2. ] type: virginica row no:122\n",
      "[ 6.3  2.7  4.9  1.8] type: virginica row no:123\n",
      "[ 6.7  3.3  5.7  2.1] type: virginica row no:124\n",
      "[ 7.2  3.2  6.   1.8] type: virginica row no:125\n",
      "[ 6.2  2.8  4.8  1.8] type: virginica row no:126\n",
      "[ 6.1  3.   4.9  1.8] type: virginica row no:127\n",
      "[ 6.4  2.8  5.6  2.1] type: virginica row no:128\n",
      "[ 7.2  3.   5.8  1.6] type: virginica row no:129\n",
      "[ 7.4  2.8  6.1  1.9] type: virginica row no:130\n",
      "[ 7.9  3.8  6.4  2. ] type: virginica row no:131\n",
      "[ 6.4  2.8  5.6  2.2] type: virginica row no:132\n",
      "[ 6.3  2.8  5.1  1.5] type: virginica row no:133\n",
      "[ 6.1  2.6  5.6  1.4] type: virginica row no:134\n",
      "[ 7.7  3.   6.1  2.3] type: virginica row no:135\n",
      "[ 6.3  3.4  5.6  2.4] type: virginica row no:136\n",
      "[ 6.4  3.1  5.5  1.8] type: virginica row no:137\n",
      "[ 6.   3.   4.8  1.8] type: virginica row no:138\n",
      "[ 6.9  3.1  5.4  2.1] type: virginica row no:139\n",
      "[ 6.7  3.1  5.6  2.4] type: virginica row no:140\n",
      "[ 6.9  3.1  5.1  2.3] type: virginica row no:141\n",
      "[ 5.8  2.7  5.1  1.9] type: virginica row no:142\n",
      "[ 6.8  3.2  5.9  2.3] type: virginica row no:143\n",
      "[ 6.7  3.3  5.7  2.5] type: virginica row no:144\n",
      "[ 6.7  3.   5.2  2.3] type: virginica row no:145\n",
      "[ 6.3  2.5  5.   1.9] type: virginica row no:146\n",
      "[ 6.5  3.   5.2  2. ] type: virginica row no:147\n",
      "[ 6.2  3.4  5.4  2.3] type: virginica row no:148\n",
      "[ 5.9  3.   5.1  1.8] type: virginica row no:149\n"
     ]
    },
    {
     "ename": "NameError",
     "evalue": "name 'test_idx' is not defined",
     "traceback": [
      "\u001b[0;31m---------------------------------------------------------------------------\u001b[0m",
      "\u001b[0;31mNameError\u001b[0m                                 Traceback (most recent call last)",
      "\u001b[0;32m<ipython-input-18-5faf29141ded>\u001b[0m in \u001b[0;36m<module>\u001b[0;34m()\u001b[0m\n\u001b[1;32m     17\u001b[0m \u001b[0;34m\u001b[0m\u001b[0m\n\u001b[1;32m     18\u001b[0m \u001b[0;34m\u001b[0m\u001b[0m\n\u001b[0;32m---> 19\u001b[0;31m \u001b[0mtrain_target\u001b[0m \u001b[0;34m=\u001b[0m \u001b[0mnp\u001b[0m\u001b[0;34m.\u001b[0m\u001b[0mdelete\u001b[0m\u001b[0;34m(\u001b[0m\u001b[0miris\u001b[0m\u001b[0;34m.\u001b[0m\u001b[0mtarget\u001b[0m\u001b[0;34m,\u001b[0m \u001b[0mtest_idx\u001b[0m\u001b[0;34m)\u001b[0m\u001b[0;34m\u001b[0m\u001b[0m\n\u001b[0m\u001b[1;32m     20\u001b[0m \u001b[0mtrain_data\u001b[0m \u001b[0;34m=\u001b[0m \u001b[0mnp\u001b[0m\u001b[0;34m.\u001b[0m\u001b[0mdelete\u001b[0m\u001b[0;34m(\u001b[0m\u001b[0miris\u001b[0m\u001b[0;34m.\u001b[0m\u001b[0mdata\u001b[0m\u001b[0;34m,\u001b[0m \u001b[0mtest_idx\u001b[0m\u001b[0;34m,\u001b[0m \u001b[0maxis\u001b[0m\u001b[0;34m=\u001b[0m\u001b[0;36m0\u001b[0m\u001b[0;34m)\u001b[0m\u001b[0;34m\u001b[0m\u001b[0m\n",
      "\u001b[0;31mNameError\u001b[0m: name 'test_idx' is not defined"
     ],
     "output_type": "error"
    }
   ],
   "source": [
    "# Data wrangling \n",
    "\n",
    "import numpy as np\n",
    "from sklearn.datasets import load_iris\n",
    "iris = load_iris()\n",
    "print(iris.feature_names)\n",
    "print(iris.target_names)\n",
    "print(iris.data[0])\n",
    "print(iris.target[0])\n",
    "print(iris.target)\n",
    "\n",
    "\n",
    "print(\"### Look at all data ###\")\n",
    "print(iris.feature_names)\n",
    "for i in range(len(iris.data)):\n",
    "    print(iris.data[i],\"type: \" + iris.target_names[iris.target[i]], \"row no:\" + str(i))\n",
    "    \n",
    "    "
   ]
  },
  {
   "cell_type": "code",
   "execution_count": 20,
   "metadata": {
    "collapsed": true
   },
   "outputs": [],
   "source": [
    "test_idx = [0, 50, 100] # 3 different flowers\n",
    "\n",
    "train_target = np.delete(iris.target, test_idx)\n",
    "train_data = np.delete(iris.data, test_idx, axis=0)"
   ]
  },
  {
   "cell_type": "code",
   "execution_count": 27,
   "metadata": {
    "collapsed": false
   },
   "outputs": [
    {
     "name": "stdout",
     "output_type": "stream",
     "text": [
      "[0 0 0 0 0 0 0 0 0 0 0 0 0 0 0 0 0 0 0 0 0 0 0 0 0 0 0 0 0 0 0 0 0 0 0 0 0\n",
      " 0 0 0 0 0 0 0 0 0 0 0 0 1 1 1 1 1 1 1 1 1 1 1 1 1 1 1 1 1 1 1 1 1 1 1 1 1\n",
      " 1 1 1 1 1 1 1 1 1 1 1 1 1 1 1 1 1 1 1 1 1 1 1 1 2 2 2 2 2 2 2 2 2 2 2 2 2\n",
      " 2 2 2 2 2 2 2 2 2 2 2 2 2 2 2 2 2 2 2 2 2 2 2 2 2 2 2 2 2 2 2 2 2 2 2 2]\n",
      "147\n"
     ]
    },
    {
     "data": {
      "text/plain": [
       "147"
      ]
     },
     "execution_count": 27,
     "metadata": {},
     "output_type": "execute_result"
    }
   ],
   "source": [
    "print(train_target)\n",
    "print(len(train_target))\n",
    "\n",
    "len(train_data)"
   ]
  },
  {
   "cell_type": "code",
   "execution_count": 39,
   "metadata": {
    "collapsed": false
   },
   "outputs": [],
   "source": [
    "test_data = iris.data[test_idx]"
   ]
  },
  {
   "cell_type": "code",
   "execution_count": 40,
   "metadata": {
    "collapsed": false
   },
   "outputs": [],
   "source": [
    "test_target = iris.target[test_idx]"
   ]
  },
  {
   "cell_type": "code",
   "execution_count": 33,
   "metadata": {
    "collapsed": true
   },
   "outputs": [],
   "source": [
    "from sklearn import tree"
   ]
  },
  {
   "cell_type": "code",
   "execution_count": 37,
   "metadata": {
    "collapsed": false
   },
   "outputs": [
    {
     "data": {
      "text/plain": [
       "DecisionTreeClassifier(class_weight=None, criterion='gini', max_depth=None,\n",
       "            max_features=None, max_leaf_nodes=None,\n",
       "            min_impurity_split=1e-07, min_samples_leaf=1,\n",
       "            min_samples_split=2, min_weight_fraction_leaf=0.0,\n",
       "            presort=False, random_state=None, splitter='best')"
      ]
     },
     "execution_count": 37,
     "metadata": {},
     "output_type": "execute_result"
    }
   ],
   "source": [
    "m_clasifier = tree.DecisionTreeClassifier()\n",
    "m_clasifier.fit(train_data, train_target)"
   ]
  },
  {
   "cell_type": "code",
   "execution_count": 42,
   "metadata": {
    "collapsed": false
   },
   "outputs": [
    {
     "data": {
      "text/plain": [
       "array([[ 5.1,  3.5,  1.4,  0.2],\n",
       "       [ 7. ,  3.2,  4.7,  1.4],\n",
       "       [ 6.3,  3.3,  6. ,  2.5]])"
      ]
     },
     "execution_count": 42,
     "metadata": {},
     "output_type": "execute_result"
    }
   ],
   "source": [
    "test_data"
   ]
  },
  {
   "cell_type": "code",
   "execution_count": 44,
   "metadata": {
    "collapsed": false
   },
   "outputs": [
    {
     "data": {
      "text/plain": [
       "array([0, 1, 2])"
      ]
     },
     "execution_count": 44,
     "metadata": {},
     "output_type": "execute_result"
    }
   ],
   "source": [
    "m_clasifier.predict(test_data)"
   ]
  },
  {
   "cell_type": "code",
   "execution_count": 46,
   "metadata": {
    "collapsed": false
   },
   "outputs": [
    {
     "ename": "NameError",
     "evalue": "name 'array' is not defined",
     "traceback": [
      "\u001b[0;31m---------------------------------------------------------------------------\u001b[0m",
      "\u001b[0;31mNameError\u001b[0m                                 Traceback (most recent call last)",
      "\u001b[0;32m<ipython-input-46-b41322cd360b>\u001b[0m in \u001b[0;36m<module>\u001b[0;34m()\u001b[0m\n\u001b[0;32m----> 1\u001b[0;31m m_clasifier.predict(array([[ 5.1,  3.5,  1.4,  0.2],\n\u001b[0m\u001b[1;32m      2\u001b[0m        \u001b[0;34m[\u001b[0m \u001b[0;36m7.\u001b[0m \u001b[0;34m,\u001b[0m  \u001b[0;36m3.2\u001b[0m\u001b[0;34m,\u001b[0m  \u001b[0;36m4.7\u001b[0m\u001b[0;34m,\u001b[0m  \u001b[0;36m1.4\u001b[0m\u001b[0;34m]\u001b[0m\u001b[0;34m,\u001b[0m\u001b[0;34m\u001b[0m\u001b[0m\n\u001b[1;32m      3\u001b[0m        [ 6.3,  3.3,  6. ,  2.5]]))\n",
      "\u001b[0;31mNameError\u001b[0m: name 'array' is not defined"
     ],
     "output_type": "error"
    }
   ],
   "source": []
  }
 ],
 "metadata": {
  "kernelspec": {
   "display_name": "Python 3",
   "language": "python",
   "name": "python3"
  },
  "language_info": {
   "codemirror_mode": {
    "name": "ipython",
    "version": 3
   },
   "file_extension": ".py",
   "mimetype": "text/x-python",
   "name": "python",
   "nbconvert_exporter": "python",
   "pygments_lexer": "ipython3",
   "version": "3.4.6"
  }
 },
 "nbformat": 4,
 "nbformat_minor": 2
}
