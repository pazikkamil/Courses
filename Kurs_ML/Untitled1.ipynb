{
 "cells": [
  {
   "cell_type": "code",
   "execution_count": 3,
   "metadata": {
    "collapsed": true
   },
   "outputs": [],
   "source": [
    "import numpy as np"
   ]
  },
  {
   "cell_type": "code",
   "execution_count": 40,
   "metadata": {},
   "outputs": [],
   "source": [
    "x = np.random.binomial(100, 0.05, size=1000)"
   ]
  },
  {
   "cell_type": "code",
   "execution_count": 1,
   "metadata": {},
   "outputs": [
    {
     "ename": "NameError",
     "evalue": "name 'np' is not defined",
     "output_type": "error",
     "traceback": [
      "\u001b[0;31m---------------------------------------------------------------------------\u001b[0m",
      "\u001b[0;31mNameError\u001b[0m                                 Traceback (most recent call last)",
      "\u001b[0;32m<ipython-input-1-da2c84913425>\u001b[0m in \u001b[0;36m<module>\u001b[0;34m()\u001b[0m\n\u001b[0;32m----> 1\u001b[0;31m \u001b[0mnp\u001b[0m\u001b[0;34m.\u001b[0m\u001b[0msum\u001b[0m\u001b[0;34m(\u001b[0m\u001b[0mx\u001b[0m \u001b[0;34m==\u001b[0m \u001b[0;36m1\u001b[0m\u001b[0;34m)\u001b[0m\u001b[0;34m\u001b[0m\u001b[0m\n\u001b[0m",
      "\u001b[0;31mNameError\u001b[0m: name 'np' is not defined"
     ]
    }
   ],
   "source": [
    "np.sum(x == 1)"
   ]
  },
  {
   "cell_type": "code",
   "execution_count": 7,
   "metadata": {},
   "outputs": [
    {
     "data": {
      "text/plain": [
       "array([ 4, 10,  7, ...,  9, 15, 10])"
      ]
     },
     "execution_count": 7,
     "metadata": {},
     "output_type": "execute_result"
    }
   ],
   "source": [
    "np.random.poisson(10, size=10000)"
   ]
  },
  {
   "cell_type": "code",
   "execution_count": 8,
   "metadata": {},
   "outputs": [
    {
     "name": "stdout",
     "output_type": "stream",
     "text": [
      "Help on built-in function poisson:\n",
      "\n",
      "poisson(...) method of mtrand.RandomState instance\n",
      "    poisson(lam=1.0, size=None)\n",
      "    \n",
      "    Draw samples from a Poisson distribution.\n",
      "    \n",
      "    The Poisson distribution is the limit of the binomial distribution\n",
      "    for large N.\n",
      "    \n",
      "    Parameters\n",
      "    ----------\n",
      "    lam : float or array_like of floats\n",
      "        Expectation of interval, should be >= 0. A sequence of expectation\n",
      "        intervals must be broadcastable over the requested size.\n",
      "    size : int or tuple of ints, optional\n",
      "        Output shape.  If the given shape is, e.g., ``(m, n, k)``, then\n",
      "        ``m * n * k`` samples are drawn.  If size is ``None`` (default),\n",
      "        a single value is returned if ``lam`` is a scalar. Otherwise,\n",
      "        ``np.array(lam).size`` samples are drawn.\n",
      "    \n",
      "    Returns\n",
      "    -------\n",
      "    out : ndarray or scalar\n",
      "        Drawn samples from the parameterized Poisson distribution.\n",
      "    \n",
      "    Notes\n",
      "    -----\n",
      "    The Poisson distribution\n",
      "    \n",
      "    .. math:: f(k; \\lambda)=\\frac{\\lambda^k e^{-\\lambda}}{k!}\n",
      "    \n",
      "    For events with an expected separation :math:`\\lambda` the Poisson\n",
      "    distribution :math:`f(k; \\lambda)` describes the probability of\n",
      "    :math:`k` events occurring within the observed\n",
      "    interval :math:`\\lambda`.\n",
      "    \n",
      "    Because the output is limited to the range of the C long type, a\n",
      "    ValueError is raised when `lam` is within 10 sigma of the maximum\n",
      "    representable value.\n",
      "    \n",
      "    References\n",
      "    ----------\n",
      "    .. [1] Weisstein, Eric W. \"Poisson Distribution.\"\n",
      "           From MathWorld--A Wolfram Web Resource.\n",
      "           http://mathworld.wolfram.com/PoissonDistribution.html\n",
      "    .. [2] Wikipedia, \"Poisson distribution\",\n",
      "           http://en.wikipedia.org/wiki/Poisson_distribution\n",
      "    \n",
      "    Examples\n",
      "    --------\n",
      "    Draw samples from the distribution:\n",
      "    \n",
      "    >>> import numpy as np\n",
      "    >>> s = np.random.poisson(5, 10000)\n",
      "    \n",
      "    Display histogram of the sample:\n",
      "    \n",
      "    >>> import matplotlib.pyplot as plt\n",
      "    >>> count, bins, ignored = plt.hist(s, 14, normed=True)\n",
      "    >>> plt.show()\n",
      "    \n",
      "    Draw each 100 values for lambda 100 and 500:\n",
      "    \n",
      "    >>> s = np.random.poisson(lam=(100., 500.), size=(100, 2))\n",
      "\n"
     ]
    }
   ],
   "source": [
    "help(np.random.poisson)"
   ]
  }
 ],
 "metadata": {
  "kernelspec": {
   "display_name": "Python 3",
   "language": "python",
   "name": "python3"
  }
 },
 "nbformat": 4,
 "nbformat_minor": 2
}
