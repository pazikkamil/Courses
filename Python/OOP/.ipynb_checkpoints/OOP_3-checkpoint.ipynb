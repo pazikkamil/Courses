{
 "cells": [
  {
   "cell_type": "code",
   "execution_count": 1,
   "metadata": {
    "collapsed": true
   },
   "outputs": [],
   "source": [
    "# method overloading - when function exist and we add new one with differend arguments\n",
    "# method override - when we overwrite method (same args, same return type)\n",
    "# polymorphism - same method(same args) - different results\n",
    "# operator overloading - when we create a meaning for operator def __eq__(self, other): return self.age == other.age"
   ]
  },
  {
   "cell_type": "code",
   "execution_count": 2,
   "metadata": {
    "collapsed": true
   },
   "outputs": [],
   "source": []
  },
  {
   "cell_type": "code",
   "execution_count": 46,
   "metadata": {
    "collapsed": false
   },
   "outputs": [],
   "source": [
    "class Animal:\n",
    "    _number_of_legs = 0\n",
    "    _pairs_of_eyes = 0\n",
    "    __test = 0\n",
    "    def __init__(self, age):\n",
    "        self._age = age\n",
    "        print(\"Animal created\")\n",
    "    @property\n",
    "    def age(self):\n",
    "        return self._age\n",
    "    @age.setter\n",
    "    def age(self, age):\n",
    "        self._age = age\n",
    "    def print_legs_and_eyes(self):\n",
    "        print(\"I have \" + str(self._number_of_legs) + \" legs and \" +\n",
    "        str(self._pairs_of_eyes * 2) + \" eyes.\")\n",
    "    def print_age(self):\n",
    "        print(\"I am \" + str(self._age) + \" years old.\")\n",
    "    @property\n",
    "    def test(self):\n",
    "        return self.__test + 2\n",
    "    "
   ]
  },
  {
   "cell_type": "code",
   "execution_count": 32,
   "metadata": {
    "collapsed": false
   },
   "outputs": [
    {
     "name": "stdout",
     "output_type": "stream",
     "text": [
      "Animal created\n"
     ]
    }
   ],
   "source": [
    "a = Animal(23)"
   ]
  },
  {
   "cell_type": "code",
   "execution_count": 20,
   "metadata": {
    "collapsed": false
   },
   "outputs": [],
   "source": [
    "a.age = 44"
   ]
  },
  {
   "cell_type": "code",
   "execution_count": 21,
   "metadata": {
    "collapsed": false
   },
   "outputs": [
    {
     "data": {
      "text/plain": [
       "0"
      ]
     },
     "execution_count": 21,
     "metadata": {},
     "output_type": "execute_result"
    }
   ],
   "source": [
    "a.test"
   ]
  },
  {
   "cell_type": "code",
   "execution_count": 13,
   "metadata": {
    "collapsed": false
   },
   "outputs": [
    {
     "name": "stdout",
     "output_type": "stream",
     "text": [
      "44\n"
     ]
    }
   ],
   "source": [
    "print(a.age)"
   ]
  },
  {
   "cell_type": "code",
   "execution_count": 47,
   "metadata": {
    "collapsed": false
   },
   "outputs": [],
   "source": [
    "class Mammal(Animal):\n",
    "    _pairs_of_eyes = 1\n",
    "    def __init__(self, age, is_pregnant=False):\n",
    "       super().__init__(age)\n",
    "       self._is_pregnant = is_pregnant\n",
    "       print(\"Mammal created\")\n",
    "    @property\n",
    "    def is_pregnant(self):\n",
    "       return self._is_pregnant\n",
    "    @is_pregnant.setter\n",
    "    def is_pregnant(self, is_pregnant):\n",
    "       self._is_pregnant = is_pregnant\n",
    "#     @property\n",
    "#     def test(self):\n",
    "#         return self.__test + 2\n",
    "    "
   ]
  },
  {
   "cell_type": "code",
   "execution_count": 38,
   "metadata": {
    "collapsed": false
   },
   "outputs": [
    {
     "name": "stdout",
     "output_type": "stream",
     "text": [
      "Animal created\n",
      "Mammal created\n"
     ]
    }
   ],
   "source": [
    "b = Mammal(5)"
   ]
  },
  {
   "cell_type": "code",
   "execution_count": 39,
   "metadata": {
    "collapsed": false
   },
   "outputs": [
    {
     "data": {
      "text/plain": [
       "2"
      ]
     },
     "execution_count": 39,
     "metadata": {},
     "output_type": "execute_result"
    }
   ],
   "source": [
    "b.test"
   ]
  },
  {
   "cell_type": "code",
   "execution_count": 52,
   "metadata": {
    "collapsed": false
   },
   "outputs": [],
   "source": [
    "class DomesticMammal(Mammal):\n",
    "    def __init__(self, name, age, favorite_toy=None, is_pregnant=False):\n",
    "        super().__init__(age, is_pregnant)\n",
    "        self._name = name\n",
    "        self._favorite_toy = favorite_toy\n",
    "        print(\"DomesticMammal created\")\n",
    "    @property\n",
    "    def age(self):\n",
    "        return self._age\n",
    "    @property\n",
    "    def name(self):\n",
    "        return self._name\n",
    "    @property\n",
    "    def favorite_toy(self):\n",
    "        return self._favorite_toy\n",
    "    @favorite_toy.setter\n",
    "    def favorite_toy(self, favorite_toy):\n",
    "        self._favorite_toy = favorite_toy\n",
    "    def talk(self):\n",
    "        print(self._name + \": talks\")\n",
    "    def create_mammal(self):\n",
    "        return super().__init__(2)\n",
    "    @classmethod\n",
    "    def born(cls, name):\n",
    "        return cls(name, age=0, favorite_toy=None, is_pregnant=False)"
   ]
  },
  {
   "cell_type": "code",
   "execution_count": 53,
   "metadata": {
    "collapsed": false
   },
   "outputs": [
    {
     "name": "stdout",
     "output_type": "stream",
     "text": [
      "Animal created\n",
      "Mammal created\n",
      "DomesticMammal created\n"
     ]
    }
   ],
   "source": [
    "d = DomesticMammal(\"Kicia\", 3, \"kulka\")"
   ]
  },
  {
   "cell_type": "code",
   "execution_count": 50,
   "metadata": {
    "collapsed": false
   },
   "outputs": [
    {
     "ename": "AttributeError",
     "evalue": "can't set attribute",
     "output_type": "error",
     "traceback": [
      "\u001b[0;31m---------------------------------------------------------------------------\u001b[0m",
      "\u001b[0;31mAttributeError\u001b[0m                            Traceback (most recent call last)",
      "\u001b[0;32m<ipython-input-50-94a4864c93d2>\u001b[0m in \u001b[0;36m<module>\u001b[0;34m()\u001b[0m\n\u001b[0;32m----> 1\u001b[0;31m \u001b[0md\u001b[0m\u001b[0;34m.\u001b[0m\u001b[0mage\u001b[0m \u001b[0;34m=\u001b[0m \u001b[0;36m32\u001b[0m \u001b[0;31m# cannot set becase there is no setter\u001b[0m\u001b[0;34m\u001b[0m\u001b[0m\n\u001b[0m",
      "\u001b[0;31mAttributeError\u001b[0m: can't set attribute"
     ]
    }
   ],
   "source": [
    "d.age = 32 # cannot set becase there is no setter"
   ]
  },
  {
   "cell_type": "code",
   "execution_count": 56,
   "metadata": {
    "collapsed": false
   },
   "outputs": [
    {
     "name": "stdout",
     "output_type": "stream",
     "text": [
      "Animal created\n",
      "Mammal created\n",
      "DomesticMammal created\n"
     ]
    }
   ],
   "source": [
    "d_e = d.born(\"Oliwka\")"
   ]
  },
  {
   "cell_type": "code",
   "execution_count": 58,
   "metadata": {
    "collapsed": false
   },
   "outputs": [
    {
     "name": "stdout",
     "output_type": "stream",
     "text": [
      "Oliwka\n"
     ]
    }
   ],
   "source": [
    "print(d_e.name)"
   ]
  },
  {
   "cell_type": "code",
   "execution_count": 53,
   "metadata": {
    "collapsed": false
   },
   "outputs": [
    {
     "name": "stdout",
     "output_type": "stream",
     "text": [
      "3\n"
     ]
    }
   ],
   "source": [
    "print(d.age)"
   ]
  },
  {
   "cell_type": "code",
   "execution_count": 55,
   "metadata": {
    "collapsed": false
   },
   "outputs": [
    {
     "name": "stdout",
     "output_type": "stream",
     "text": [
      "Animal created\n",
      "Mammal created\n",
      "DomesticMammal created\n"
     ]
    }
   ],
   "source": [
    "e = DomesticMammal(\"Piesek\", 3, \"kość\")"
   ]
  },
  {
   "cell_type": "code",
   "execution_count": 62,
   "metadata": {
    "collapsed": false
   },
   "outputs": [
    {
     "name": "stdout",
     "output_type": "stream",
     "text": [
      "Animal created\n",
      "Mammal created\n"
     ]
    }
   ],
   "source": [
    "f = e.create_mammal()"
   ]
  },
  {
   "cell_type": "code",
   "execution_count": 71,
   "metadata": {
    "collapsed": false
   },
   "outputs": [
    {
     "name": "stdout",
     "output_type": "stream",
     "text": [
      "Animal created\n",
      "Mammal created\n",
      "DomesticMammal created\n"
     ]
    }
   ],
   "source": [
    "g = e.__init__(\"abc\", 11, \"zabawka\")"
   ]
  },
  {
   "cell_type": "code",
   "execution_count": 77,
   "metadata": {
    "collapsed": false
   },
   "outputs": [
    {
     "name": "stdout",
     "output_type": "stream",
     "text": [
      "Woof Woof Woof Woof Woof \n"
     ]
    }
   ],
   "source": [
    "print(\"Woof \"*5)"
   ]
  },
  {
   "cell_type": "code",
   "execution_count": 107,
   "metadata": {
    "collapsed": false
   },
   "outputs": [],
   "source": [
    "class Dog(DomesticMammal):\n",
    "    _number_of_legs = 4\n",
    "    _breed = \"Just a dog\"\n",
    "    _breed_family = \"Dog\"\n",
    "    def __init__(self, name, age, favorite_toy, is_pregnant=False):\n",
    "        super().__init__(name, age, favorite_toy, is_pregnant)\n",
    "        print(\"Dog created\")\n",
    "    def bark(self, times=1, other_domestic_mammal=None, is_angry=False):\n",
    "        message = self.name\n",
    "        if other_domestic_mammal is not None:\n",
    "            message += \" to \" + other_domestic_mammal.name + \": \"\n",
    "        else:\n",
    "            message += \": \"\n",
    "        if is_angry:\n",
    "            message += \"Grr \"\n",
    "        message += \"Woof \" * times\n",
    "        print(message)\n",
    "    def talk(self):\n",
    "        self.bark()\n",
    "    #@classmethod\n",
    "    def print_breed(cls):\n",
    "        print(type(cls))\n",
    "        print(cls._breed)\n",
    "    @classmethod\n",
    "    def print_breed_family(cls):\n",
    "        print(cls._breed_family)"
   ]
  },
  {
   "cell_type": "code",
   "execution_count": 108,
   "metadata": {
    "collapsed": false
   },
   "outputs": [
    {
     "name": "stdout",
     "output_type": "stream",
     "text": [
      "Animal created\n",
      "Mammal created\n",
      "DomesticMammal created\n",
      "Dog created\n"
     ]
    }
   ],
   "source": [
    "piesek = Dog(\"burek\", 2, \"wibro\")"
   ]
  },
  {
   "cell_type": "code",
   "execution_count": 111,
   "metadata": {
    "collapsed": false
   },
   "outputs": [
    {
     "name": "stdout",
     "output_type": "stream",
     "text": [
      "<class 'type'>\n",
      "Just a dog\n",
      "0\n"
     ]
    }
   ],
   "source": [
    "piesek.print_breed()\n",
    "print(piesek._zmienna)"
   ]
  },
  {
   "cell_type": "code",
   "execution_count": 137,
   "metadata": {
    "collapsed": true
   },
   "outputs": [],
   "source": [
    "class Animal:\n",
    "    _number_of_legs = 0\n",
    "    _pairs_of_eyes = 0\n",
    "    def __init__(self, age):\n",
    "        self._age = age\n",
    "        print(\"Animal created\")\n",
    "    @property\n",
    "    def age(self):\n",
    "        return self._age\n",
    "    @age.setter\n",
    "    def age(self, age):\n",
    "        self._age = age\n",
    "    def print_legs_and_eyes(self):\n",
    "        print(\"I have \" + str(self._number_of_legs) + \" legs and \" +\n",
    "        str(self._pairs_of_eyes * 2) + \" eyes.\")\n",
    "    def print_age(self):\n",
    "        print(\"I am \" + str(self._age) + \" years old.\")\n",
    "    def __eq__(self, other):\n",
    "        print('Comparing eq')\n",
    "        return self.age == other.age\n",
    "    def __lt__(self, other):\n",
    "        print('Age comparing')\n",
    "        return self.age < other.age\n",
    "    def __ge__(self, other):\n",
    "        print('Comparing ge')\n",
    "        return self.age >= other.age\n",
    "    def __gt__(self, other):\n",
    "        print('Comparing gt')\n",
    "        return self.age > other.age"
   ]
  },
  {
   "cell_type": "code",
   "execution_count": 138,
   "metadata": {
    "collapsed": false
   },
   "outputs": [
    {
     "name": "stdout",
     "output_type": "stream",
     "text": [
      "Animal created\n",
      "Animal created\n"
     ]
    }
   ],
   "source": [
    "mlodszy = Animal(2); starszy = Animal(5)"
   ]
  },
  {
   "cell_type": "code",
   "execution_count": 133,
   "metadata": {
    "collapsed": false
   },
   "outputs": [
    {
     "name": "stdout",
     "output_type": "stream",
     "text": [
      "Age comparing\n"
     ]
    },
    {
     "data": {
      "text/plain": [
       "True"
      ]
     },
     "execution_count": 133,
     "metadata": {},
     "output_type": "execute_result"
    }
   ],
   "source": [
    "mlodszy < starszy"
   ]
  },
  {
   "cell_type": "code",
   "execution_count": 134,
   "metadata": {
    "collapsed": false
   },
   "outputs": [
    {
     "name": "stdout",
     "output_type": "stream",
     "text": [
      "Comparing gt\n"
     ]
    },
    {
     "data": {
      "text/plain": [
       "False"
      ]
     },
     "execution_count": 134,
     "metadata": {},
     "output_type": "execute_result"
    }
   ],
   "source": [
    "mlodszy > starszy"
   ]
  },
  {
   "cell_type": "code",
   "execution_count": 139,
   "metadata": {
    "collapsed": false
   },
   "outputs": [
    {
     "name": "stdout",
     "output_type": "stream",
     "text": [
      "Comparing eq\n"
     ]
    },
    {
     "data": {
      "text/plain": [
       "False"
      ]
     },
     "execution_count": 139,
     "metadata": {},
     "output_type": "execute_result"
    }
   ],
   "source": [
    "mlodszy == starszy"
   ]
  },
  {
   "cell_type": "code",
   "execution_count": 135,
   "metadata": {
    "collapsed": false
   },
   "outputs": [
    {
     "name": "stdout",
     "output_type": "stream",
     "text": [
      "Comparing ge\n"
     ]
    },
    {
     "data": {
      "text/plain": [
       "True"
      ]
     },
     "execution_count": 135,
     "metadata": {},
     "output_type": "execute_result"
    }
   ],
   "source": [
    "mlodszy <= starszy"
   ]
  }
 ],
 "metadata": {
  "kernelspec": {
   "display_name": "Python 3",
   "language": "python",
   "name": "python3"
  },
  "language_info": {
   "codemirror_mode": {
    "name": "ipython",
    "version": 3
   },
   "file_extension": ".py",
   "mimetype": "text/x-python",
   "name": "python",
   "nbconvert_exporter": "python",
   "pygments_lexer": "ipython3",
   "version": "3.5.2"
  }
 },
 "nbformat": 4,
 "nbformat_minor": 2
}
