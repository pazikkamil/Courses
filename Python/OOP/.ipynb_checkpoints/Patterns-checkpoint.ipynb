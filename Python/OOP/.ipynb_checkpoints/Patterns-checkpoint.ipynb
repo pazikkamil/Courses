{
 "cells": [
  {
   "cell_type": "code",
   "execution_count": 27,
   "metadata": {
    "collapsed": false
   },
   "outputs": [
    {
     "name": "stdout",
     "output_type": "stream",
     "text": [
      "wrap_with_prints runs only once\n",
      "About to run func1_to_decorate\n",
      "Running the function that was decorated.\n",
      "Done running func1_to_decorate\n"
     ]
    }
   ],
   "source": [
    "def wrap_with_prints(fn):\n",
    "    # This will only happen when a function decorated\n",
    "    # with @wrap_with_prints is defined\n",
    "    print('wrap_with_prints runs only once')\n",
    " \n",
    "    def wrapped():\n",
    "        # This will happen each time just before\n",
    "        # the decorated function is called\n",
    "        print('About to run %s' % fn.__name__)\n",
    "        # Here is where the wrapper calls the decorated function\n",
    "        fn()\n",
    "        # This will happen each time just after\n",
    "        # the decorated function is called\n",
    "        print('Done running %s' % fn.__name__)\n",
    " \n",
    "    return wrapped\n",
    " \n",
    "@wrap_with_prints\n",
    "\n",
    "def func1_to_decorate():\n",
    "    print('Running the function that was decorated.')\n",
    " \n",
    "func1_to_decorate()"
   ]
  },
  {
   "cell_type": "code",
   "execution_count": null,
   "metadata": {
    "collapsed": true
   },
   "outputs": [],
   "source": []
  }
 ],
 "metadata": {
  "kernelspec": {
   "display_name": "Python 3",
   "language": "python",
   "name": "python3"
  },
  "language_info": {
   "codemirror_mode": {
    "name": "ipython",
    "version": 3
   },
   "file_extension": ".py",
   "mimetype": "text/x-python",
   "name": "python",
   "nbconvert_exporter": "python",
   "pygments_lexer": "ipython3",
   "version": "3.5.2"
  }
 },
 "nbformat": 4,
 "nbformat_minor": 2
}
