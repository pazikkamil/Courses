{
 "cells": [
  {
   "cell_type": "code",
   "execution_count": 2,
   "metadata": {
    "collapsed": true
   },
   "outputs": [],
   "source": [
    "i = \"asdf\"\n",
    "j = \"asdf\""
   ]
  },
  {
   "cell_type": "code",
   "execution_count": 7,
   "metadata": {
    "collapsed": false
   },
   "outputs": [
    {
     "name": "stdout",
     "output_type": "stream",
     "text": [
      "4580447656\n",
      "4580447656\n"
     ]
    },
    {
     "data": {
      "text/plain": [
       "True"
      ]
     },
     "execution_count": 7,
     "metadata": {},
     "output_type": "execute_result"
    }
   ],
   "source": [
    "print(id(i))\n",
    "print(id(j))\n",
    "id(i) == id(j)"
   ]
  },
  {
   "cell_type": "code",
   "execution_count": 19,
   "metadata": {
    "collapsed": false
   },
   "outputs": [
    {
     "name": "stdout",
     "output_type": "stream",
     "text": [
      "True\n",
      "False\n"
     ]
    }
   ],
   "source": [
    "a = 240\n",
    "b = 240\n",
    "# 257 is key value - then id is differend\n",
    "c = 257\n",
    "d = 257\n",
    "print(id(a) == id(b))\n",
    "print(id(c) == id(d))"
   ]
  },
  {
   "cell_type": "code",
   "execution_count": 26,
   "metadata": {
    "collapsed": false
   },
   "outputs": [
    {
     "data": {
      "text/plain": [
       "False"
      ]
     },
     "execution_count": 26,
     "metadata": {},
     "output_type": "execute_result"
    }
   ],
   "source": [
    "class Kls:\n",
    "    pass\n",
    "\n",
    "class K2:\n",
    "    wartosc = 4\n",
    "    pass\n",
    "\n",
    "a = Kls()\n",
    "b = Kls()\n",
    "c = K2()\n",
    "\n",
    "id(a) == id(b)"
   ]
  },
  {
   "cell_type": "code",
   "execution_count": 27,
   "metadata": {
    "collapsed": false
   },
   "outputs": [],
   "source": [
    "c = Kls()"
   ]
  },
  {
   "cell_type": "code",
   "execution_count": 28,
   "metadata": {
    "collapsed": true
   },
   "outputs": [],
   "source": [
    "c.__class__ = K2"
   ]
  },
  {
   "cell_type": "code",
   "execution_count": 29,
   "metadata": {
    "collapsed": false
   },
   "outputs": [
    {
     "data": {
      "text/plain": [
       "__main__.K2"
      ]
     },
     "execution_count": 29,
     "metadata": {},
     "output_type": "execute_result"
    }
   ],
   "source": [
    "c.__class__"
   ]
  },
  {
   "cell_type": "code",
   "execution_count": 31,
   "metadata": {
    "collapsed": false
   },
   "outputs": [
    {
     "data": {
      "text/plain": [
       "4"
      ]
     },
     "execution_count": 31,
     "metadata": {},
     "output_type": "execute_result"
    }
   ],
   "source": [
    "c.wartosc"
   ]
  },
  {
   "cell_type": "code",
   "execution_count": 32,
   "metadata": {
    "collapsed": false
   },
   "outputs": [
    {
     "ename": "AttributeError",
     "evalue": "'K2' object has no attribute '__call__'",
     "output_type": "error",
     "traceback": [
      "\u001b[0;31m---------------------------------------------------------------------------\u001b[0m",
      "\u001b[0;31mAttributeError\u001b[0m                            Traceback (most recent call last)",
      "\u001b[0;32m<ipython-input-32-ce8e63cdfd89>\u001b[0m in \u001b[0;36m<module>\u001b[0;34m()\u001b[0m\n\u001b[0;32m----> 1\u001b[0;31m \u001b[0mc\u001b[0m\u001b[0;34m.\u001b[0m\u001b[0m__call__\u001b[0m\u001b[0;34m\u001b[0m\u001b[0m\n\u001b[0m",
      "\u001b[0;31mAttributeError\u001b[0m: 'K2' object has no attribute '__call__'"
     ]
    }
   ],
   "source": [
    "c.__call__"
   ]
  },
  {
   "cell_type": "code",
   "execution_count": null,
   "metadata": {
    "collapsed": true
   },
   "outputs": [],
   "source": [
    "print(a.__class__)"
   ]
  },
  {
   "cell_type": "code",
   "execution_count": null,
   "metadata": {
    "collapsed": true
   },
   "outputs": [],
   "source": [
    "print('ab')"
   ]
  },
  {
   "cell_type": "code",
   "execution_count": 4,
   "metadata": {
    "collapsed": false
   },
   "outputs": [
    {
     "data": {
      "text/plain": [
       "28"
      ]
     },
     "execution_count": 4,
     "metadata": {},
     "output_type": "execute_result"
    }
   ],
   "source": [
    "import sys\n",
    "sys.getsizeof(5)"
   ]
  },
  {
   "cell_type": "code",
   "execution_count": 5,
   "metadata": {
    "collapsed": false
   },
   "outputs": [
    {
     "data": {
      "text/plain": [
       "59"
      ]
     },
     "execution_count": 5,
     "metadata": {},
     "output_type": "execute_result"
    }
   ],
   "source": [
    "sys.getsizeof(\"abcdefg\" + \"def\")"
   ]
  },
  {
   "cell_type": "code",
   "execution_count": 1,
   "metadata": {
    "collapsed": true
   },
   "outputs": [],
   "source": [
    "import gc"
   ]
  },
  {
   "cell_type": "code",
   "execution_count": 97,
   "metadata": {
    "collapsed": false
   },
   "outputs": [
    {
     "data": {
      "text/plain": [
       "45242"
      ]
     },
     "execution_count": 97,
     "metadata": {},
     "output_type": "execute_result"
    }
   ],
   "source": [
    "len(gc.get_objects())"
   ]
  },
  {
   "cell_type": "code",
   "execution_count": null,
   "metadata": {
    "collapsed": true
   },
   "outputs": [],
   "source": [
    "locals()"
   ]
  },
  {
   "cell_type": "code",
   "execution_count": 98,
   "metadata": {
    "collapsed": false
   },
   "outputs": [
    {
     "data": {
      "text/plain": [
       "{'In': ['',\n",
       "  'import gc',\n",
       "  'len(gc.get_objects())',\n",
       "  'sys.getsizeof(\"abcdefg\" + \"def\")',\n",
       "  'import sys\\nsys.getsizeof(5)',\n",
       "  'sys.getsizeof(\"abcdefg\" + \"def\")',\n",
       "  'len(gc.get_objects())',\n",
       "  'len(gc.get_objects())',\n",
       "  'len(gc.get_objects())',\n",
       "  'len(gc.get_objects())',\n",
       "  'len(gc.get_objects())',\n",
       "  'len(gc.get_objects())',\n",
       "  'len(gc.get_objects())',\n",
       "  'len(gc.get_objects())',\n",
       "  'len(gc.get_objects())',\n",
       "  'len(gc.get_objects())',\n",
       "  'len(gc.get_objects())',\n",
       "  'len(gc.get_objects())',\n",
       "  'len(gc.get_objects())',\n",
       "  'len(gc.get_objects())',\n",
       "  'len(gc.get_objects())',\n",
       "  'len(gc.get_objects())',\n",
       "  'len(gc.get_objects())',\n",
       "  'len(gc.get_objects())',\n",
       "  'len(gc.get_objects())',\n",
       "  'len(gc.get_objects())',\n",
       "  'len(gc.get_objects())',\n",
       "  'len(gc.get_objects())',\n",
       "  'len(gc.get_objects())',\n",
       "  'len(gc.get_objects())',\n",
       "  'len(gc.get_objects())',\n",
       "  'len(gc.get_objects())',\n",
       "  'len(gc.get_objects())',\n",
       "  'len(gc.get_objects())',\n",
       "  'len(gc.get_objects())',\n",
       "  'len(gc.get_objects())',\n",
       "  'len(gc.get_objects())',\n",
       "  'len(gc.get_objects())',\n",
       "  'len(gc.get_objects())',\n",
       "  'len(gc.get_objects())',\n",
       "  'len(gc.get_objects())',\n",
       "  'len(gc.get_objects())',\n",
       "  'len(gc.get_objects())',\n",
       "  'len(gc.get_objects())',\n",
       "  'len(gc.get_objects())',\n",
       "  'len(gc.get_objects())',\n",
       "  'len(gc.get_objects())',\n",
       "  'len(gc.get_objects())',\n",
       "  'len(gc.get_objects())',\n",
       "  'len(gc.get_objects())',\n",
       "  'len(gc.get_objects())',\n",
       "  'len(gc.get_objects())',\n",
       "  'len(gc.get_objects())',\n",
       "  'len(gc.get_objects())',\n",
       "  'len(gc.get_objects())',\n",
       "  'len(gc.get_objects())',\n",
       "  'len(gc.get_objects())',\n",
       "  'len(gc.get_objects())',\n",
       "  'len(gc.get_objects())',\n",
       "  'len(gc.get_objects())',\n",
       "  'len(gc.get_objects())',\n",
       "  'len(gc.get_objects())',\n",
       "  'len(gc.get_objects())',\n",
       "  'len(gc.get_objects())',\n",
       "  'len(gc.get_objects())',\n",
       "  'len(gc.get_objects())',\n",
       "  'len(gc.get_objects())',\n",
       "  'len(gc.get_objects())',\n",
       "  'len(gc.get_objects())',\n",
       "  'len(gc.get_objects())',\n",
       "  'len(gc.get_objects())',\n",
       "  'len(gc.get_objects())',\n",
       "  'len(gc.get_objects())',\n",
       "  'len(gc.get_objects())',\n",
       "  'len(gc.get_objects())',\n",
       "  'len(gc.get_objects())',\n",
       "  'len(gc.get_objects())',\n",
       "  'len(gc.get_objects())',\n",
       "  'len(gc.get_objects())',\n",
       "  'len(gc.get_objects())',\n",
       "  'len(gc.get_objects())',\n",
       "  'len(gc.get_objects())',\n",
       "  'len(gc.get_objects())',\n",
       "  'len(gc.get_objects())',\n",
       "  'len(gc.get_objects())',\n",
       "  'len(gc.get_objects())',\n",
       "  'len(gc.get_objects())',\n",
       "  'len(gc.get_objects())',\n",
       "  'len(gc.get_objects())',\n",
       "  'len(gc.get_objects())',\n",
       "  'len(gc.get_objects())',\n",
       "  'len(gc.get_objects())',\n",
       "  'len(gc.get_objects())',\n",
       "  'len(gc.get_objects())',\n",
       "  'len(gc.get_objects())',\n",
       "  'len(gc.get_objects())',\n",
       "  'len(gc.get_objects())',\n",
       "  'len(gc.get_objects())',\n",
       "  'a = 5\\nglobals()'],\n",
       " 'Out': {2: 44824,\n",
       "  4: 28,\n",
       "  5: 59,\n",
       "  6: 44962,\n",
       "  7: 44995,\n",
       "  8: 44975,\n",
       "  9: 44978,\n",
       "  10: 44981,\n",
       "  11: 45007,\n",
       "  12: 45010,\n",
       "  13: 45013,\n",
       "  14: 44993,\n",
       "  15: 45019,\n",
       "  16: 45022,\n",
       "  17: 45002,\n",
       "  18: 45026,\n",
       "  19: 45029,\n",
       "  20: 45034,\n",
       "  21: 45007,\n",
       "  22: 45017,\n",
       "  23: 45020,\n",
       "  24: 45044,\n",
       "  25: 45026,\n",
       "  26: 45052,\n",
       "  27: 45055,\n",
       "  28: 45058,\n",
       "  29: 45061,\n",
       "  30: 45064,\n",
       "  31: 45067,\n",
       "  32: 45047,\n",
       "  33: 45073,\n",
       "  34: 45046,\n",
       "  35: 45056,\n",
       "  36: 45082,\n",
       "  37: 45062,\n",
       "  38: 45065,\n",
       "  39: 45068,\n",
       "  40: 45064,\n",
       "  41: 45074,\n",
       "  42: 45098,\n",
       "  43: 45080,\n",
       "  44: 45106,\n",
       "  45: 45109,\n",
       "  46: 45089,\n",
       "  47: 45113,\n",
       "  48: 45116,\n",
       "  49: 45098,\n",
       "  50: 45094,\n",
       "  51: 45127,\n",
       "  52: 45130,\n",
       "  53: 45133,\n",
       "  54: 45134,\n",
       "  55: 45139,\n",
       "  56: 45142,\n",
       "  57: 45115,\n",
       "  58: 45125,\n",
       "  59: 45151,\n",
       "  60: 45124,\n",
       "  61: 45134,\n",
       "  62: 45158,\n",
       "  63: 45161,\n",
       "  64: 45166,\n",
       "  65: 45146,\n",
       "  66: 45149,\n",
       "  67: 45175,\n",
       "  68: 45176,\n",
       "  69: 45181,\n",
       "  70: 45161,\n",
       "  71: 45185,\n",
       "  72: 45160,\n",
       "  73: 45170,\n",
       "  74: 45173,\n",
       "  75: 45197,\n",
       "  76: 45200,\n",
       "  77: 45182,\n",
       "  78: 45208,\n",
       "  79: 45209,\n",
       "  80: 45191,\n",
       "  81: 45217,\n",
       "  82: 45220,\n",
       "  83: 45221,\n",
       "  84: 45224,\n",
       "  85: 45229,\n",
       "  86: 45232,\n",
       "  87: 45235,\n",
       "  88: 45238,\n",
       "  89: 45211,\n",
       "  90: 45214,\n",
       "  91: 45247,\n",
       "  92: 45227,\n",
       "  93: 45230,\n",
       "  94: 45256,\n",
       "  95: 45259,\n",
       "  96: 45262,\n",
       "  97: 45242},\n",
       " '_': 45242,\n",
       " '_10': 44981,\n",
       " '_11': 45007,\n",
       " '_12': 45010,\n",
       " '_13': 45013,\n",
       " '_14': 44993,\n",
       " '_15': 45019,\n",
       " '_16': 45022,\n",
       " '_17': 45002,\n",
       " '_18': 45026,\n",
       " '_19': 45029,\n",
       " '_2': 44824,\n",
       " '_20': 45034,\n",
       " '_21': 45007,\n",
       " '_22': 45017,\n",
       " '_23': 45020,\n",
       " '_24': 45044,\n",
       " '_25': 45026,\n",
       " '_26': 45052,\n",
       " '_27': 45055,\n",
       " '_28': 45058,\n",
       " '_29': 45061,\n",
       " '_30': 45064,\n",
       " '_31': 45067,\n",
       " '_32': 45047,\n",
       " '_33': 45073,\n",
       " '_34': 45046,\n",
       " '_35': 45056,\n",
       " '_36': 45082,\n",
       " '_37': 45062,\n",
       " '_38': 45065,\n",
       " '_39': 45068,\n",
       " '_4': 28,\n",
       " '_40': 45064,\n",
       " '_41': 45074,\n",
       " '_42': 45098,\n",
       " '_43': 45080,\n",
       " '_44': 45106,\n",
       " '_45': 45109,\n",
       " '_46': 45089,\n",
       " '_47': 45113,\n",
       " '_48': 45116,\n",
       " '_49': 45098,\n",
       " '_5': 59,\n",
       " '_50': 45094,\n",
       " '_51': 45127,\n",
       " '_52': 45130,\n",
       " '_53': 45133,\n",
       " '_54': 45134,\n",
       " '_55': 45139,\n",
       " '_56': 45142,\n",
       " '_57': 45115,\n",
       " '_58': 45125,\n",
       " '_59': 45151,\n",
       " '_6': 44962,\n",
       " '_60': 45124,\n",
       " '_61': 45134,\n",
       " '_62': 45158,\n",
       " '_63': 45161,\n",
       " '_64': 45166,\n",
       " '_65': 45146,\n",
       " '_66': 45149,\n",
       " '_67': 45175,\n",
       " '_68': 45176,\n",
       " '_69': 45181,\n",
       " '_7': 44995,\n",
       " '_70': 45161,\n",
       " '_71': 45185,\n",
       " '_72': 45160,\n",
       " '_73': 45170,\n",
       " '_74': 45173,\n",
       " '_75': 45197,\n",
       " '_76': 45200,\n",
       " '_77': 45182,\n",
       " '_78': 45208,\n",
       " '_79': 45209,\n",
       " '_8': 44975,\n",
       " '_80': 45191,\n",
       " '_81': 45217,\n",
       " '_82': 45220,\n",
       " '_83': 45221,\n",
       " '_84': 45224,\n",
       " '_85': 45229,\n",
       " '_86': 45232,\n",
       " '_87': 45235,\n",
       " '_88': 45238,\n",
       " '_89': 45211,\n",
       " '_9': 44978,\n",
       " '_90': 45214,\n",
       " '_91': 45247,\n",
       " '_92': 45227,\n",
       " '_93': 45230,\n",
       " '_94': 45256,\n",
       " '_95': 45259,\n",
       " '_96': 45262,\n",
       " '_97': 45242,\n",
       " '__': 45262,\n",
       " '___': 45259,\n",
       " '__builtin__': <module 'builtins' (built-in)>,\n",
       " '__builtins__': <module 'builtins' (built-in)>,\n",
       " '__doc__': 'Automatically created module for IPython interactive environment',\n",
       " '__loader__': None,\n",
       " '__name__': '__main__',\n",
       " '__package__': None,\n",
       " '__spec__': None,\n",
       " '_dh': ['/Users/kamil/code/Courses/Python/OOP'],\n",
       " '_i': 'len(gc.get_objects())',\n",
       " '_i1': 'import gc',\n",
       " '_i10': 'len(gc.get_objects())',\n",
       " '_i11': 'len(gc.get_objects())',\n",
       " '_i12': 'len(gc.get_objects())',\n",
       " '_i13': 'len(gc.get_objects())',\n",
       " '_i14': 'len(gc.get_objects())',\n",
       " '_i15': 'len(gc.get_objects())',\n",
       " '_i16': 'len(gc.get_objects())',\n",
       " '_i17': 'len(gc.get_objects())',\n",
       " '_i18': 'len(gc.get_objects())',\n",
       " '_i19': 'len(gc.get_objects())',\n",
       " '_i2': 'len(gc.get_objects())',\n",
       " '_i20': 'len(gc.get_objects())',\n",
       " '_i21': 'len(gc.get_objects())',\n",
       " '_i22': 'len(gc.get_objects())',\n",
       " '_i23': 'len(gc.get_objects())',\n",
       " '_i24': 'len(gc.get_objects())',\n",
       " '_i25': 'len(gc.get_objects())',\n",
       " '_i26': 'len(gc.get_objects())',\n",
       " '_i27': 'len(gc.get_objects())',\n",
       " '_i28': 'len(gc.get_objects())',\n",
       " '_i29': 'len(gc.get_objects())',\n",
       " '_i3': 'sys.getsizeof(\"abcdefg\" + \"def\")',\n",
       " '_i30': 'len(gc.get_objects())',\n",
       " '_i31': 'len(gc.get_objects())',\n",
       " '_i32': 'len(gc.get_objects())',\n",
       " '_i33': 'len(gc.get_objects())',\n",
       " '_i34': 'len(gc.get_objects())',\n",
       " '_i35': 'len(gc.get_objects())',\n",
       " '_i36': 'len(gc.get_objects())',\n",
       " '_i37': 'len(gc.get_objects())',\n",
       " '_i38': 'len(gc.get_objects())',\n",
       " '_i39': 'len(gc.get_objects())',\n",
       " '_i4': 'import sys\\nsys.getsizeof(5)',\n",
       " '_i40': 'len(gc.get_objects())',\n",
       " '_i41': 'len(gc.get_objects())',\n",
       " '_i42': 'len(gc.get_objects())',\n",
       " '_i43': 'len(gc.get_objects())',\n",
       " '_i44': 'len(gc.get_objects())',\n",
       " '_i45': 'len(gc.get_objects())',\n",
       " '_i46': 'len(gc.get_objects())',\n",
       " '_i47': 'len(gc.get_objects())',\n",
       " '_i48': 'len(gc.get_objects())',\n",
       " '_i49': 'len(gc.get_objects())',\n",
       " '_i5': 'sys.getsizeof(\"abcdefg\" + \"def\")',\n",
       " '_i50': 'len(gc.get_objects())',\n",
       " '_i51': 'len(gc.get_objects())',\n",
       " '_i52': 'len(gc.get_objects())',\n",
       " '_i53': 'len(gc.get_objects())',\n",
       " '_i54': 'len(gc.get_objects())',\n",
       " '_i55': 'len(gc.get_objects())',\n",
       " '_i56': 'len(gc.get_objects())',\n",
       " '_i57': 'len(gc.get_objects())',\n",
       " '_i58': 'len(gc.get_objects())',\n",
       " '_i59': 'len(gc.get_objects())',\n",
       " '_i6': 'len(gc.get_objects())',\n",
       " '_i60': 'len(gc.get_objects())',\n",
       " '_i61': 'len(gc.get_objects())',\n",
       " '_i62': 'len(gc.get_objects())',\n",
       " '_i63': 'len(gc.get_objects())',\n",
       " '_i64': 'len(gc.get_objects())',\n",
       " '_i65': 'len(gc.get_objects())',\n",
       " '_i66': 'len(gc.get_objects())',\n",
       " '_i67': 'len(gc.get_objects())',\n",
       " '_i68': 'len(gc.get_objects())',\n",
       " '_i69': 'len(gc.get_objects())',\n",
       " '_i7': 'len(gc.get_objects())',\n",
       " '_i70': 'len(gc.get_objects())',\n",
       " '_i71': 'len(gc.get_objects())',\n",
       " '_i72': 'len(gc.get_objects())',\n",
       " '_i73': 'len(gc.get_objects())',\n",
       " '_i74': 'len(gc.get_objects())',\n",
       " '_i75': 'len(gc.get_objects())',\n",
       " '_i76': 'len(gc.get_objects())',\n",
       " '_i77': 'len(gc.get_objects())',\n",
       " '_i78': 'len(gc.get_objects())',\n",
       " '_i79': 'len(gc.get_objects())',\n",
       " '_i8': 'len(gc.get_objects())',\n",
       " '_i80': 'len(gc.get_objects())',\n",
       " '_i81': 'len(gc.get_objects())',\n",
       " '_i82': 'len(gc.get_objects())',\n",
       " '_i83': 'len(gc.get_objects())',\n",
       " '_i84': 'len(gc.get_objects())',\n",
       " '_i85': 'len(gc.get_objects())',\n",
       " '_i86': 'len(gc.get_objects())',\n",
       " '_i87': 'len(gc.get_objects())',\n",
       " '_i88': 'len(gc.get_objects())',\n",
       " '_i89': 'len(gc.get_objects())',\n",
       " '_i9': 'len(gc.get_objects())',\n",
       " '_i90': 'len(gc.get_objects())',\n",
       " '_i91': 'len(gc.get_objects())',\n",
       " '_i92': 'len(gc.get_objects())',\n",
       " '_i93': 'len(gc.get_objects())',\n",
       " '_i94': 'len(gc.get_objects())',\n",
       " '_i95': 'len(gc.get_objects())',\n",
       " '_i96': 'len(gc.get_objects())',\n",
       " '_i97': 'len(gc.get_objects())',\n",
       " '_i98': 'a = 5\\nglobals()',\n",
       " '_ih': ['',\n",
       "  'import gc',\n",
       "  'len(gc.get_objects())',\n",
       "  'sys.getsizeof(\"abcdefg\" + \"def\")',\n",
       "  'import sys\\nsys.getsizeof(5)',\n",
       "  'sys.getsizeof(\"abcdefg\" + \"def\")',\n",
       "  'len(gc.get_objects())',\n",
       "  'len(gc.get_objects())',\n",
       "  'len(gc.get_objects())',\n",
       "  'len(gc.get_objects())',\n",
       "  'len(gc.get_objects())',\n",
       "  'len(gc.get_objects())',\n",
       "  'len(gc.get_objects())',\n",
       "  'len(gc.get_objects())',\n",
       "  'len(gc.get_objects())',\n",
       "  'len(gc.get_objects())',\n",
       "  'len(gc.get_objects())',\n",
       "  'len(gc.get_objects())',\n",
       "  'len(gc.get_objects())',\n",
       "  'len(gc.get_objects())',\n",
       "  'len(gc.get_objects())',\n",
       "  'len(gc.get_objects())',\n",
       "  'len(gc.get_objects())',\n",
       "  'len(gc.get_objects())',\n",
       "  'len(gc.get_objects())',\n",
       "  'len(gc.get_objects())',\n",
       "  'len(gc.get_objects())',\n",
       "  'len(gc.get_objects())',\n",
       "  'len(gc.get_objects())',\n",
       "  'len(gc.get_objects())',\n",
       "  'len(gc.get_objects())',\n",
       "  'len(gc.get_objects())',\n",
       "  'len(gc.get_objects())',\n",
       "  'len(gc.get_objects())',\n",
       "  'len(gc.get_objects())',\n",
       "  'len(gc.get_objects())',\n",
       "  'len(gc.get_objects())',\n",
       "  'len(gc.get_objects())',\n",
       "  'len(gc.get_objects())',\n",
       "  'len(gc.get_objects())',\n",
       "  'len(gc.get_objects())',\n",
       "  'len(gc.get_objects())',\n",
       "  'len(gc.get_objects())',\n",
       "  'len(gc.get_objects())',\n",
       "  'len(gc.get_objects())',\n",
       "  'len(gc.get_objects())',\n",
       "  'len(gc.get_objects())',\n",
       "  'len(gc.get_objects())',\n",
       "  'len(gc.get_objects())',\n",
       "  'len(gc.get_objects())',\n",
       "  'len(gc.get_objects())',\n",
       "  'len(gc.get_objects())',\n",
       "  'len(gc.get_objects())',\n",
       "  'len(gc.get_objects())',\n",
       "  'len(gc.get_objects())',\n",
       "  'len(gc.get_objects())',\n",
       "  'len(gc.get_objects())',\n",
       "  'len(gc.get_objects())',\n",
       "  'len(gc.get_objects())',\n",
       "  'len(gc.get_objects())',\n",
       "  'len(gc.get_objects())',\n",
       "  'len(gc.get_objects())',\n",
       "  'len(gc.get_objects())',\n",
       "  'len(gc.get_objects())',\n",
       "  'len(gc.get_objects())',\n",
       "  'len(gc.get_objects())',\n",
       "  'len(gc.get_objects())',\n",
       "  'len(gc.get_objects())',\n",
       "  'len(gc.get_objects())',\n",
       "  'len(gc.get_objects())',\n",
       "  'len(gc.get_objects())',\n",
       "  'len(gc.get_objects())',\n",
       "  'len(gc.get_objects())',\n",
       "  'len(gc.get_objects())',\n",
       "  'len(gc.get_objects())',\n",
       "  'len(gc.get_objects())',\n",
       "  'len(gc.get_objects())',\n",
       "  'len(gc.get_objects())',\n",
       "  'len(gc.get_objects())',\n",
       "  'len(gc.get_objects())',\n",
       "  'len(gc.get_objects())',\n",
       "  'len(gc.get_objects())',\n",
       "  'len(gc.get_objects())',\n",
       "  'len(gc.get_objects())',\n",
       "  'len(gc.get_objects())',\n",
       "  'len(gc.get_objects())',\n",
       "  'len(gc.get_objects())',\n",
       "  'len(gc.get_objects())',\n",
       "  'len(gc.get_objects())',\n",
       "  'len(gc.get_objects())',\n",
       "  'len(gc.get_objects())',\n",
       "  'len(gc.get_objects())',\n",
       "  'len(gc.get_objects())',\n",
       "  'len(gc.get_objects())',\n",
       "  'len(gc.get_objects())',\n",
       "  'len(gc.get_objects())',\n",
       "  'len(gc.get_objects())',\n",
       "  'len(gc.get_objects())',\n",
       "  'a = 5\\nglobals()'],\n",
       " '_ii': 'len(gc.get_objects())',\n",
       " '_iii': 'len(gc.get_objects())',\n",
       " '_oh': {2: 44824,\n",
       "  4: 28,\n",
       "  5: 59,\n",
       "  6: 44962,\n",
       "  7: 44995,\n",
       "  8: 44975,\n",
       "  9: 44978,\n",
       "  10: 44981,\n",
       "  11: 45007,\n",
       "  12: 45010,\n",
       "  13: 45013,\n",
       "  14: 44993,\n",
       "  15: 45019,\n",
       "  16: 45022,\n",
       "  17: 45002,\n",
       "  18: 45026,\n",
       "  19: 45029,\n",
       "  20: 45034,\n",
       "  21: 45007,\n",
       "  22: 45017,\n",
       "  23: 45020,\n",
       "  24: 45044,\n",
       "  25: 45026,\n",
       "  26: 45052,\n",
       "  27: 45055,\n",
       "  28: 45058,\n",
       "  29: 45061,\n",
       "  30: 45064,\n",
       "  31: 45067,\n",
       "  32: 45047,\n",
       "  33: 45073,\n",
       "  34: 45046,\n",
       "  35: 45056,\n",
       "  36: 45082,\n",
       "  37: 45062,\n",
       "  38: 45065,\n",
       "  39: 45068,\n",
       "  40: 45064,\n",
       "  41: 45074,\n",
       "  42: 45098,\n",
       "  43: 45080,\n",
       "  44: 45106,\n",
       "  45: 45109,\n",
       "  46: 45089,\n",
       "  47: 45113,\n",
       "  48: 45116,\n",
       "  49: 45098,\n",
       "  50: 45094,\n",
       "  51: 45127,\n",
       "  52: 45130,\n",
       "  53: 45133,\n",
       "  54: 45134,\n",
       "  55: 45139,\n",
       "  56: 45142,\n",
       "  57: 45115,\n",
       "  58: 45125,\n",
       "  59: 45151,\n",
       "  60: 45124,\n",
       "  61: 45134,\n",
       "  62: 45158,\n",
       "  63: 45161,\n",
       "  64: 45166,\n",
       "  65: 45146,\n",
       "  66: 45149,\n",
       "  67: 45175,\n",
       "  68: 45176,\n",
       "  69: 45181,\n",
       "  70: 45161,\n",
       "  71: 45185,\n",
       "  72: 45160,\n",
       "  73: 45170,\n",
       "  74: 45173,\n",
       "  75: 45197,\n",
       "  76: 45200,\n",
       "  77: 45182,\n",
       "  78: 45208,\n",
       "  79: 45209,\n",
       "  80: 45191,\n",
       "  81: 45217,\n",
       "  82: 45220,\n",
       "  83: 45221,\n",
       "  84: 45224,\n",
       "  85: 45229,\n",
       "  86: 45232,\n",
       "  87: 45235,\n",
       "  88: 45238,\n",
       "  89: 45211,\n",
       "  90: 45214,\n",
       "  91: 45247,\n",
       "  92: 45227,\n",
       "  93: 45230,\n",
       "  94: 45256,\n",
       "  95: 45259,\n",
       "  96: 45262,\n",
       "  97: 45242},\n",
       " '_sh': <module 'IPython.core.shadowns' from '/Users/kamil/code/Courses/Python/OOP/venv/lib/python3.5/site-packages/IPython/core/shadowns.py'>,\n",
       " 'a': 5,\n",
       " 'exit': <IPython.core.autocall.ZMQExitAutocall at 0x102bd49e8>,\n",
       " 'gc': <module 'gc' (built-in)>,\n",
       " 'get_ipython': <bound method InteractiveShell.get_ipython of <ipykernel.zmqshell.ZMQInteractiveShell object at 0x102b86b70>>,\n",
       " 'quit': <IPython.core.autocall.ZMQExitAutocall at 0x102bd49e8>,\n",
       " 'sys': <module 'sys' (built-in)>}"
      ]
     },
     "execution_count": 98,
     "metadata": {},
     "output_type": "execute_result"
    }
   ],
   "source": [
    "a = 5\n",
    "globals()"
   ]
  },
  {
   "cell_type": "code",
   "execution_count": 1,
   "metadata": {
    "collapsed": false
   },
   "outputs": [
    {
     "name": "stderr",
     "output_type": "stream",
     "text": [
      "/Users/kamil/code/Courses/Python/OOP/venv/lib/python3.5/site-packages/memory_profiler.py:1095: UserWarning: psutil can not be used, posix used instead\n",
      "  new_backend, _backend))\n"
     ]
    }
   ],
   "source": [
    "from memory_profiler import profile\n",
    " \n",
    "@profile\n",
    "def main():\n",
    "    a = []\n",
    "    b = []\n",
    "    c = []\n",
    "    for i in range(100000):\n",
    "        a.append(5)\n",
    "    for i in range(100000):\n",
    "        b.append(300)\n",
    "    for i in range(100000):\n",
    "        c.append('123456789012345678901234567890')\n",
    "    del a\n",
    "    del b\n",
    "    del c\n",
    " \n",
    "    print('Done!')\n",
    "    \n"
   ]
  },
  {
   "cell_type": "code",
   "execution_count": 3,
   "metadata": {
    "collapsed": false
   },
   "outputs": [
    {
     "name": "stdout",
     "output_type": "stream",
     "text": [
      "ERROR: Could not find file <ipython-input-1-f4e77026e35a>\n",
      "NOTE: %mprun can only be used on functions defined in physical files, and not in the IPython environment.\n",
      "Done!\n"
     ]
    }
   ],
   "source": [
    "main()"
   ]
  },
  {
   "cell_type": "code",
   "execution_count": 33,
   "metadata": {
    "collapsed": false
   },
   "outputs": [
    {
     "ename": "TypeError",
     "evalue": "__class__ assignment only supported for heap types or ModuleType subclasses",
     "output_type": "error",
     "traceback": [
      "\u001b[0;31m---------------------------------------------------------------------------\u001b[0m",
      "\u001b[0;31mTypeError\u001b[0m                                 Traceback (most recent call last)",
      "\u001b[0;32m<ipython-input-33-6d347ee6e378>\u001b[0m in \u001b[0;36m<module>\u001b[0;34m()\u001b[0m\n\u001b[1;32m      1\u001b[0m \u001b[0ma\u001b[0m \u001b[0;34m=\u001b[0m \u001b[0;36m5\u001b[0m\u001b[0;34m\u001b[0m\u001b[0m\n\u001b[0;32m----> 2\u001b[0;31m \u001b[0ma\u001b[0m\u001b[0;34m.\u001b[0m\u001b[0m__class__\u001b[0m \u001b[0;34m=\u001b[0m \u001b[0mfloat\u001b[0m \u001b[0;31m# cannot assign because primitive type\u001b[0m\u001b[0;34m\u001b[0m\u001b[0m\n\u001b[0m",
      "\u001b[0;31mTypeError\u001b[0m: __class__ assignment only supported for heap types or ModuleType subclasses"
     ]
    }
   ],
   "source": [
    "a = 5\n",
    "a.__class__ = float # cannot assign because primitive type\n"
   ]
  },
  {
   "cell_type": "code",
   "execution_count": 37,
   "metadata": {
    "collapsed": true
   },
   "outputs": [],
   "source": [
    "def func(): # a function\n",
    "    print(\"adf\")\n",
    "    \n",
    "a = 5"
   ]
  },
  {
   "cell_type": "code",
   "execution_count": 43,
   "metadata": {
    "collapsed": false
   },
   "outputs": [
    {
     "name": "stdout",
     "output_type": "stream",
     "text": [
      "<method-wrapper '__call__' of function object at 0x10d42a378>\n",
      "True\n",
      "False\n"
     ]
    },
    {
     "ename": "AttributeError",
     "evalue": "'int' object has no attribute '__call__'",
     "output_type": "error",
     "traceback": [
      "\u001b[0;31m---------------------------------------------------------------------------\u001b[0m",
      "\u001b[0;31mAttributeError\u001b[0m                            Traceback (most recent call last)",
      "\u001b[0;32m<ipython-input-43-4f9514e488a9>\u001b[0m in \u001b[0;36m<module>\u001b[0;34m()\u001b[0m\n\u001b[1;32m      3\u001b[0m \u001b[0;34m\u001b[0m\u001b[0m\n\u001b[1;32m      4\u001b[0m \u001b[0mprint\u001b[0m\u001b[0;34m(\u001b[0m\u001b[0mcallable\u001b[0m\u001b[0;34m(\u001b[0m\u001b[0ma\u001b[0m\u001b[0;34m)\u001b[0m\u001b[0;34m)\u001b[0m\u001b[0;34m\u001b[0m\u001b[0m\n\u001b[0;32m----> 5\u001b[0;31m \u001b[0mprint\u001b[0m\u001b[0;34m(\u001b[0m\u001b[0ma\u001b[0m\u001b[0;34m.\u001b[0m\u001b[0m__call__\u001b[0m\u001b[0;34m)\u001b[0m \u001b[0;31m# not callable\u001b[0m\u001b[0;34m\u001b[0m\u001b[0m\n\u001b[0m",
      "\u001b[0;31mAttributeError\u001b[0m: 'int' object has no attribute '__call__'"
     ]
    }
   ],
   "source": [
    "print(func.__call__) # callable\n",
    "print(callable(func))\n",
    "\n",
    "print(callable(a))\n",
    "print(a.__call__) # not callable\n"
   ]
  },
  {
   "cell_type": "code",
   "execution_count": 45,
   "metadata": {
    "collapsed": true
   },
   "outputs": [],
   "source": [
    "class C: #a callable class\n",
    "    def __call__(self):\n",
    "        print(\"Adf\")\n",
    "\n",
    "c = C()\n"
   ]
  },
  {
   "cell_type": "code",
   "execution_count": 61,
   "metadata": {
    "collapsed": false
   },
   "outputs": [
    {
     "name": "stdout",
     "output_type": "stream",
     "text": [
      "Adf\n"
     ]
    },
    {
     "ename": "AttributeError",
     "evalue": "type object 'C' has no attribute '__func__'",
     "output_type": "error",
     "traceback": [
      "\u001b[0;31m---------------------------------------------------------------------------\u001b[0m",
      "\u001b[0;31mAttributeError\u001b[0m                            Traceback (most recent call last)",
      "\u001b[0;32m<ipython-input-61-8eb2f325ad0f>\u001b[0m in \u001b[0;36m<module>\u001b[0;34m()\u001b[0m\n\u001b[1;32m      1\u001b[0m \u001b[0mc\u001b[0m\u001b[0;34m.\u001b[0m\u001b[0m__call__\u001b[0m\u001b[0;34m(\u001b[0m\u001b[0;34m)\u001b[0m \u001b[0;31m#call\u001b[0m\u001b[0;34m\u001b[0m\u001b[0m\n\u001b[0;32m----> 2\u001b[0;31m \u001b[0mC\u001b[0m\u001b[0;34m.\u001b[0m\u001b[0m__func__\u001b[0m\u001b[0;34m\u001b[0m\u001b[0m\n\u001b[0m",
      "\u001b[0;31mAttributeError\u001b[0m: type object 'C' has no attribute '__func__'"
     ]
    }
   ],
   "source": [
    "c.__call__() #call \n",
    "C.__func__"
   ]
  },
  {
   "cell_type": "code",
   "execution_count": 53,
   "metadata": {
    "collapsed": false
   },
   "outputs": [
    {
     "name": "stdout",
     "output_type": "stream",
     "text": [
      "<class '__main__.C'>\n",
      "Adf\n"
     ]
    }
   ],
   "source": [
    "x = c.__class__\n",
    "print(x)\n",
    "x.__call__(c)"
   ]
  },
  {
   "cell_type": "code",
   "execution_count": 56,
   "metadata": {
    "collapsed": false
   },
   "outputs": [
    {
     "data": {
      "text/plain": [
       "True"
      ]
     },
     "execution_count": 56,
     "metadata": {},
     "output_type": "execute_result"
    }
   ],
   "source": [
    "import collections\n",
    "isinstance(lambda x:x+1, collections.Callable)"
   ]
  },
  {
   "cell_type": "code",
   "execution_count": 58,
   "metadata": {
    "collapsed": true
   },
   "outputs": [],
   "source": [
    "y = lambda x:x+1"
   ]
  },
  {
   "cell_type": "code",
   "execution_count": 1,
   "metadata": {
    "collapsed": false
   },
   "outputs": [
    {
     "ename": "NameError",
     "evalue": "name 'y' is not defined",
     "output_type": "error",
     "traceback": [
      "\u001b[0;31m---------------------------------------------------------------------------\u001b[0m",
      "\u001b[0;31mNameError\u001b[0m                                 Traceback (most recent call last)",
      "\u001b[0;32m<ipython-input-1-249b51cf0e7d>\u001b[0m in \u001b[0;36m<module>\u001b[0;34m()\u001b[0m\n\u001b[0;32m----> 1\u001b[0;31m \u001b[0my\u001b[0m\u001b[0;34m(\u001b[0m\u001b[0;36m3\u001b[0m\u001b[0;34m)\u001b[0m\u001b[0;34m\u001b[0m\u001b[0m\n\u001b[0m",
      "\u001b[0;31mNameError\u001b[0m: name 'y' is not defined"
     ]
    }
   ],
   "source": [
    "y(3)"
   ]
  },
  {
   "cell_type": "code",
   "execution_count": 2,
   "metadata": {
    "collapsed": false
   },
   "outputs": [
    {
     "name": "stdout",
     "output_type": "stream",
     "text": [
      "2\n",
      "21459\n"
     ]
    }
   ],
   "source": [
    "a = object()\n",
    "import sys\n",
    "print(sys.getrefcount(a))\n",
    "a = None\n",
    "print(sys.getrefcount(a))"
   ]
  }
 ],
 "metadata": {
  "kernelspec": {
   "display_name": "Python 3",
   "language": "python",
   "name": "python3"
  },
  "language_info": {
   "codemirror_mode": {
    "name": "ipython",
    "version": 3
   },
   "file_extension": ".py",
   "mimetype": "text/x-python",
   "name": "python",
   "nbconvert_exporter": "python",
   "pygments_lexer": "ipython3",
   "version": "3.5.2"
  }
 },
 "nbformat": 4,
 "nbformat_minor": 2
}
