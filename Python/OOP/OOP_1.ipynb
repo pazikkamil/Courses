{
 "cells": [
  {
   "cell_type": "code",
   "execution_count": 1,
   "metadata": {
    "collapsed": true
   },
   "outputs": [],
   "source": [
    "# Mutable object - object which can change states"
   ]
  },
  {
   "cell_type": "code",
   "execution_count": 3,
   "metadata": {
    "collapsed": true
   },
   "outputs": [],
   "source": [
    "class TibetanSpaniel:\n",
    "     family = \"Companion, herding\"\n",
    "     area_of_origin = \"Tibet\"\n",
    "     learning_rate = 9\n",
    "     obedience = 3śś\n",
    "     problem_solving = 8\n",
    "     def __init__(self, name, favorite_toy, watchdog_ability):\n",
    "       self.name = name\n",
    "       self.watchdog_ability = watchdog_ability\n",
    "       self.favorite_toy = favorite_toy"
   ]
  },
  {
   "cell_type": "code",
   "execution_count": 5,
   "metadata": {
    "collapsed": false
   },
   "outputs": [
    {
     "name": "stdout",
     "output_type": "stream",
     "text": [
      "Companion, herding\n"
     ]
    }
   ],
   "source": [
    "print(TibetanSpaniel.family)"
   ]
  },
  {
   "cell_type": "code",
   "execution_count": 7,
   "metadata": {
    "collapsed": false
   },
   "outputs": [
    {
     "name": "stdout",
     "output_type": "stream",
     "text": [
      "Companion, herding\n"
     ]
    }
   ],
   "source": [
    "brian = TibetanSpaniel(\"Brian\", \"Talking Minion\", 4)\n",
    "print(brian.family)"
   ]
  },
  {
   "cell_type": "code",
   "execution_count": 13,
   "metadata": {
    "collapsed": true
   },
   "outputs": [],
   "source": [
    "#TibetanSpaniel.obedience = 4\n",
    "brian.obedience = 8\n",
    "TibetanSpaniel.obedience = 6"
   ]
  },
  {
   "cell_type": "code",
   "execution_count": 15,
   "metadata": {
    "collapsed": false
   },
   "outputs": [
    {
     "name": "stdout",
     "output_type": "stream",
     "text": [
      "8\n",
      "6\n",
      "6\n"
     ]
    }
   ],
   "source": [
    "print(brian.obedience)\n",
    "print(type(brian).obedience)\n",
    "print(TibetanSpaniel.obedience)"
   ]
  },
  {
   "cell_type": "code",
   "execution_count": 27,
   "metadata": {
    "collapsed": false
   },
   "outputs": [],
   "source": [
    "class TibetanSpanielProtected:\n",
    "     family = \"Companion, herding\"\n",
    "     area_of_origin = \"Tibet\"\n",
    "     learning_rate = 9\n",
    "     obedience = 3\n",
    "     problem_solving = 8\n",
    "     def __init__(self, name, favorite_toy, watchdog_ability, sex):\n",
    "       self._name = name #protected - can be accessed\n",
    "       self._watchdog_ability = watchdog_ability\n",
    "       self._favorite_toy = favorite_toy \n",
    "       self.__sex = sex #private cannot be accessed "
   ]
  },
  {
   "cell_type": "code",
   "execution_count": 24,
   "metadata": {
    "collapsed": true
   },
   "outputs": [],
   "source": [
    "stewie = TibetanSpanielProtected(\"Stewie\", \"Laser\", 1, \"male\")"
   ]
  },
  {
   "cell_type": "code",
   "execution_count": 32,
   "metadata": {
    "collapsed": false
   },
   "outputs": [
    {
     "name": "stdout",
     "output_type": "stream",
     "text": [
      "Stewie\n"
     ]
    }
   ],
   "source": [
    "print(stewie._name) # prints\n",
    "#print(stewie__sex) # cannot print"
   ]
  },
  {
   "cell_type": "code",
   "execution_count": 68,
   "metadata": {
    "collapsed": false
   },
   "outputs": [],
   "source": [
    "class Diet():\n",
    "    @property\n",
    "    def calories(self):\n",
    "        return self.__calories\n",
    "    \n",
    "    @calories.setter\n",
    "    def calories(self, calories):\n",
    "        self.__calories = calories\n",
    "    def __init__(self, calories):\n",
    "        self.__calories = calories"
   ]
  },
  {
   "cell_type": "code",
   "execution_count": 69,
   "metadata": {
    "collapsed": false
   },
   "outputs": [
    {
     "name": "stdout",
     "output_type": "stream",
     "text": [
      "300\n"
     ]
    }
   ],
   "source": [
    "plan2 = Diet(500) #its a must ! \n",
    "plan2.calories = 300 #works because we added setter\n",
    "print(plan2.calories)\n",
    "print"
   ]
  },
  {
   "cell_type": "code",
   "execution_count": 43,
   "metadata": {
    "collapsed": true
   },
   "outputs": [],
   "source": [
    "class TibetanSpanielProtected:\n",
    "     family = \"Companion, herding\"\n",
    "     area_of_origin = \"Tibet\"\n",
    "     learning_rate = 9\n",
    "     obedience = 3\n",
    "     problem_solving = 8\n",
    "        \n",
    "     @property\n",
    "     def name(self):\n",
    "        return self.__name\n",
    "     def __init__(self, name, favorite_toy, watchdog_ability, sex):\n",
    "       self._name = name #protected - can be accessed\n",
    "       self._watchdog_ability = watchdog_ability\n",
    "       self._favorite_toy = favorite_toy \n",
    "       self.__sex = sex #private cannot be accessed\n",
    "    "
   ]
  },
  {
   "cell_type": "code",
   "execution_count": 45,
   "metadata": {
    "collapsed": false
   },
   "outputs": [
    {
     "ename": "AttributeError",
     "evalue": "can't set attribute",
     "output_type": "error",
     "traceback": [
      "\u001b[0;31m---------------------------------------------------------------------------\u001b[0m",
      "\u001b[0;31mAttributeError\u001b[0m                            Traceback (most recent call last)",
      "\u001b[0;32m<ipython-input-45-a90c42ee489d>\u001b[0m in \u001b[0;36m<module>\u001b[0;34m()\u001b[0m\n\u001b[1;32m      1\u001b[0m \u001b[0mspaniel\u001b[0m \u001b[0;34m=\u001b[0m \u001b[0mTibetanSpanielProtected\u001b[0m\u001b[0;34m(\u001b[0m\u001b[0;34m\"spaniel\"\u001b[0m\u001b[0;34m,\u001b[0m \u001b[0;34m\"fist\"\u001b[0m\u001b[0;34m,\u001b[0m \u001b[0;36m5\u001b[0m\u001b[0;34m,\u001b[0m \u001b[0;34m\"male\"\u001b[0m\u001b[0;34m)\u001b[0m\u001b[0;34m\u001b[0m\u001b[0m\n\u001b[0;32m----> 2\u001b[0;31m \u001b[0mspaniel\u001b[0m\u001b[0;34m.\u001b[0m\u001b[0mname\u001b[0m \u001b[0;34m=\u001b[0m \u001b[0;34m\"bad dog\"\u001b[0m\u001b[0;34m\u001b[0m\u001b[0m\n\u001b[0m",
      "\u001b[0;31mAttributeError\u001b[0m: can't set attribute"
     ]
    }
   ],
   "source": [
    "spaniel = TibetanSpanielProtected(\"spaniel\", \"fist\", 5, \"male\")\n",
    "spaniel.name = \"bad dog\""
   ]
  }
 ],
 "metadata": {
  "kernelspec": {
   "display_name": "Python 3",
   "language": "python",
   "name": "python3"
  },
  "language_info": {
   "codemirror_mode": {
    "name": "ipython",
    "version": 3
   },
   "file_extension": ".py",
   "mimetype": "text/x-python",
   "name": "python",
   "nbconvert_exporter": "python",
   "pygments_lexer": "ipython3",
   "version": "3.5.2"
  }
 },
 "nbformat": 4,
 "nbformat_minor": 2
}
